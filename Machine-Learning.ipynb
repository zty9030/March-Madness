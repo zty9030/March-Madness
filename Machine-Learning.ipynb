{
 "cells": [
  {
   "cell_type": "code",
   "execution_count": 34,
   "metadata": {
    "collapsed": false
   },
   "outputs": [],
   "source": [
    "import pandas as pd\n",
    "import numpy as np\n",
    "import sklearn.metrics"
   ]
  },
  {
   "cell_type": "code",
   "execution_count": 35,
   "metadata": {
    "collapsed": false
   },
   "outputs": [
    {
     "data": {
      "text/html": [
       "<div>\n",
       "<table border=\"1\" class=\"dataframe\">\n",
       "  <thead>\n",
       "    <tr style=\"text-align: right;\">\n",
       "      <th></th>\n",
       "      <th>id</th>\n",
       "      <th>season</th>\n",
       "      <th>team1_id</th>\n",
       "      <th>team1_score</th>\n",
       "      <th>team2_id</th>\n",
       "      <th>team2_score</th>\n",
       "      <th>numot</th>\n",
       "      <th>team1_seed</th>\n",
       "      <th>team2_seed</th>\n",
       "      <th>host_site</th>\n",
       "      <th>...</th>\n",
       "      <th>team1_pt_career_overall_losses</th>\n",
       "      <th>team2_pt_career_overall_losses</th>\n",
       "      <th>team1_pt_team_season_wins</th>\n",
       "      <th>team2_pt_team_season_wins</th>\n",
       "      <th>team1_pt_team_season_losses</th>\n",
       "      <th>team2_pt_team_season_losses</th>\n",
       "      <th>team1_pt_coach_season_wins</th>\n",
       "      <th>team2_pt_coach_season_wins</th>\n",
       "      <th>team1_pt_coach_season_losses</th>\n",
       "      <th>team2_pt_coach_season_losses</th>\n",
       "    </tr>\n",
       "  </thead>\n",
       "  <tbody>\n",
       "    <tr>\n",
       "      <th>0</th>\n",
       "      <td>2002-1373-1108</td>\n",
       "      <td>2002</td>\n",
       "      <td>1373</td>\n",
       "      <td>81</td>\n",
       "      <td>1108</td>\n",
       "      <td>77</td>\n",
       "      <td>0</td>\n",
       "      <td>16</td>\n",
       "      <td>16</td>\n",
       "      <td>Dayton</td>\n",
       "      <td>...</td>\n",
       "      <td>18</td>\n",
       "      <td>210</td>\n",
       "      <td>16</td>\n",
       "      <td>21</td>\n",
       "      <td>18</td>\n",
       "      <td>9</td>\n",
       "      <td>16</td>\n",
       "      <td>21</td>\n",
       "      <td>18</td>\n",
       "      <td>9</td>\n",
       "    </tr>\n",
       "    <tr>\n",
       "      <th>1</th>\n",
       "      <td>2002-1104-1194</td>\n",
       "      <td>2002</td>\n",
       "      <td>1104</td>\n",
       "      <td>86</td>\n",
       "      <td>1194</td>\n",
       "      <td>78</td>\n",
       "      <td>0</td>\n",
       "      <td>2</td>\n",
       "      <td>15</td>\n",
       "      <td>Greenville</td>\n",
       "      <td>...</td>\n",
       "      <td>73</td>\n",
       "      <td>63</td>\n",
       "      <td>26</td>\n",
       "      <td>19</td>\n",
       "      <td>7</td>\n",
       "      <td>11</td>\n",
       "      <td>26</td>\n",
       "      <td>19</td>\n",
       "      <td>7</td>\n",
       "      <td>11</td>\n",
       "    </tr>\n",
       "    <tr>\n",
       "      <th>2</th>\n",
       "      <td>2002-1112-1364</td>\n",
       "      <td>2002</td>\n",
       "      <td>1112</td>\n",
       "      <td>86</td>\n",
       "      <td>1364</td>\n",
       "      <td>81</td>\n",
       "      <td>0</td>\n",
       "      <td>3</td>\n",
       "      <td>14</td>\n",
       "      <td>Albuquerque</td>\n",
       "      <td>...</td>\n",
       "      <td>239</td>\n",
       "      <td>52</td>\n",
       "      <td>22</td>\n",
       "      <td>20</td>\n",
       "      <td>9</td>\n",
       "      <td>10</td>\n",
       "      <td>22</td>\n",
       "      <td>20</td>\n",
       "      <td>9</td>\n",
       "      <td>10</td>\n",
       "    </tr>\n",
       "    <tr>\n",
       "      <th>3</th>\n",
       "      <td>2002-1181-1457</td>\n",
       "      <td>2002</td>\n",
       "      <td>1181</td>\n",
       "      <td>84</td>\n",
       "      <td>1457</td>\n",
       "      <td>37</td>\n",
       "      <td>0</td>\n",
       "      <td>1</td>\n",
       "      <td>16</td>\n",
       "      <td>Greenville</td>\n",
       "      <td>...</td>\n",
       "      <td>226</td>\n",
       "      <td>41</td>\n",
       "      <td>29</td>\n",
       "      <td>19</td>\n",
       "      <td>3</td>\n",
       "      <td>11</td>\n",
       "      <td>29</td>\n",
       "      <td>19</td>\n",
       "      <td>3</td>\n",
       "      <td>11</td>\n",
       "    </tr>\n",
       "    <tr>\n",
       "      <th>4</th>\n",
       "      <td>2002-1231-1428</td>\n",
       "      <td>2002</td>\n",
       "      <td>1231</td>\n",
       "      <td>75</td>\n",
       "      <td>1428</td>\n",
       "      <td>56</td>\n",
       "      <td>0</td>\n",
       "      <td>5</td>\n",
       "      <td>12</td>\n",
       "      <td>Sacramento</td>\n",
       "      <td>...</td>\n",
       "      <td>24</td>\n",
       "      <td>133</td>\n",
       "      <td>20</td>\n",
       "      <td>21</td>\n",
       "      <td>11</td>\n",
       "      <td>8</td>\n",
       "      <td>20</td>\n",
       "      <td>21</td>\n",
       "      <td>11</td>\n",
       "      <td>8</td>\n",
       "    </tr>\n",
       "  </tbody>\n",
       "</table>\n",
       "<p>5 rows × 98 columns</p>\n",
       "</div>"
      ],
      "text/plain": [
       "               id  season  team1_id  team1_score  team2_id  team2_score  \\\n",
       "0  2002-1373-1108    2002      1373           81      1108           77   \n",
       "1  2002-1104-1194    2002      1104           86      1194           78   \n",
       "2  2002-1112-1364    2002      1112           86      1364           81   \n",
       "3  2002-1181-1457    2002      1181           84      1457           37   \n",
       "4  2002-1231-1428    2002      1231           75      1428           56   \n",
       "\n",
       "   numot  team1_seed  team2_seed    host_site              ...               \\\n",
       "0      0          16          16       Dayton              ...                \n",
       "1      0           2          15   Greenville              ...                \n",
       "2      0           3          14  Albuquerque              ...                \n",
       "3      0           1          16   Greenville              ...                \n",
       "4      0           5          12   Sacramento              ...                \n",
       "\n",
       "   team1_pt_career_overall_losses  team2_pt_career_overall_losses  \\\n",
       "0                              18                             210   \n",
       "1                              73                              63   \n",
       "2                             239                              52   \n",
       "3                             226                              41   \n",
       "4                              24                             133   \n",
       "\n",
       "  team1_pt_team_season_wins team2_pt_team_season_wins  \\\n",
       "0                        16                        21   \n",
       "1                        26                        19   \n",
       "2                        22                        20   \n",
       "3                        29                        19   \n",
       "4                        20                        21   \n",
       "\n",
       "   team1_pt_team_season_losses  team2_pt_team_season_losses  \\\n",
       "0                           18                            9   \n",
       "1                            7                           11   \n",
       "2                            9                           10   \n",
       "3                            3                           11   \n",
       "4                           11                            8   \n",
       "\n",
       "   team1_pt_coach_season_wins  team2_pt_coach_season_wins  \\\n",
       "0                          16                          21   \n",
       "1                          26                          19   \n",
       "2                          22                          20   \n",
       "3                          29                          19   \n",
       "4                          20                          21   \n",
       "\n",
       "   team1_pt_coach_season_losses  team2_pt_coach_season_losses  \n",
       "0                            18                             9  \n",
       "1                             7                            11  \n",
       "2                             9                            10  \n",
       "3                             3                            11  \n",
       "4                            11                             8  \n",
       "\n",
       "[5 rows x 98 columns]"
      ]
     },
     "execution_count": 35,
     "metadata": {},
     "output_type": "execute_result"
    }
   ],
   "source": [
    "df_original = pd.read_csv('Original_data_2002_2015.csv')\n",
    "df_original.head()"
   ]
  },
  {
   "cell_type": "code",
   "execution_count": 36,
   "metadata": {
    "collapsed": false
   },
   "outputs": [
    {
     "data": {
      "text/plain": [
       "98"
      ]
     },
     "execution_count": 36,
     "metadata": {},
     "output_type": "execute_result"
    }
   ],
   "source": [
    "len(df_original.columns)"
   ]
  },
  {
   "cell_type": "markdown",
   "metadata": {},
   "source": [
    "## make labels to original data"
   ]
  },
  {
   "cell_type": "code",
   "execution_count": 37,
   "metadata": {
    "collapsed": true
   },
   "outputs": [],
   "source": [
    "from sklearn.cross_validation import train_test_split"
   ]
  },
  {
   "cell_type": "code",
   "execution_count": 38,
   "metadata": {
    "collapsed": false
   },
   "outputs": [],
   "source": [
    "df_label_1,df_label_0 = train_test_split(df_original,test_size = 0.5,random_state = 2016)"
   ]
  },
  {
   "cell_type": "code",
   "execution_count": 39,
   "metadata": {
    "collapsed": false
   },
   "outputs": [
    {
     "name": "stderr",
     "output_type": "stream",
     "text": [
      "/Users/williamz/anaconda2/lib/python2.7/site-packages/ipykernel/__main__.py:1: SettingWithCopyWarning: \n",
      "A value is trying to be set on a copy of a slice from a DataFrame.\n",
      "Try using .loc[row_indexer,col_indexer] = value instead\n",
      "\n",
      "See the caveats in the documentation: http://pandas.pydata.org/pandas-docs/stable/indexing.html#indexing-view-versus-copy\n",
      "  if __name__ == '__main__':\n"
     ]
    },
    {
     "data": {
      "text/html": [
       "<div>\n",
       "<table border=\"1\" class=\"dataframe\">\n",
       "  <thead>\n",
       "    <tr style=\"text-align: right;\">\n",
       "      <th></th>\n",
       "      <th>id</th>\n",
       "      <th>season</th>\n",
       "      <th>team1_id</th>\n",
       "      <th>team1_score</th>\n",
       "      <th>team2_id</th>\n",
       "      <th>team2_score</th>\n",
       "      <th>numot</th>\n",
       "      <th>team1_seed</th>\n",
       "      <th>team2_seed</th>\n",
       "      <th>host_site</th>\n",
       "      <th>...</th>\n",
       "      <th>team2_pt_career_overall_losses</th>\n",
       "      <th>team1_pt_team_season_wins</th>\n",
       "      <th>team2_pt_team_season_wins</th>\n",
       "      <th>team1_pt_team_season_losses</th>\n",
       "      <th>team2_pt_team_season_losses</th>\n",
       "      <th>team1_pt_coach_season_wins</th>\n",
       "      <th>team2_pt_coach_season_wins</th>\n",
       "      <th>team1_pt_coach_season_losses</th>\n",
       "      <th>team2_pt_coach_season_losses</th>\n",
       "      <th>label</th>\n",
       "    </tr>\n",
       "  </thead>\n",
       "  <tbody>\n",
       "    <tr>\n",
       "      <th>339</th>\n",
       "      <td>2007-1246-1437</td>\n",
       "      <td>2007</td>\n",
       "      <td>1246</td>\n",
       "      <td>67</td>\n",
       "      <td>1437</td>\n",
       "      <td>58</td>\n",
       "      <td>0</td>\n",
       "      <td>8</td>\n",
       "      <td>9</td>\n",
       "      <td>Chicago</td>\n",
       "      <td>...</td>\n",
       "      <td>154</td>\n",
       "      <td>21</td>\n",
       "      <td>22</td>\n",
       "      <td>11</td>\n",
       "      <td>10</td>\n",
       "      <td>21</td>\n",
       "      <td>22</td>\n",
       "      <td>11</td>\n",
       "      <td>10</td>\n",
       "      <td>1</td>\n",
       "    </tr>\n",
       "    <tr>\n",
       "      <th>293</th>\n",
       "      <td>2006-1261-1401</td>\n",
       "      <td>2006</td>\n",
       "      <td>1261</td>\n",
       "      <td>58</td>\n",
       "      <td>1401</td>\n",
       "      <td>57</td>\n",
       "      <td>0</td>\n",
       "      <td>4</td>\n",
       "      <td>12</td>\n",
       "      <td>Jacksonville</td>\n",
       "      <td>...</td>\n",
       "      <td>50</td>\n",
       "      <td>23</td>\n",
       "      <td>21</td>\n",
       "      <td>8</td>\n",
       "      <td>8</td>\n",
       "      <td>23</td>\n",
       "      <td>21</td>\n",
       "      <td>8</td>\n",
       "      <td>8</td>\n",
       "      <td>1</td>\n",
       "    </tr>\n",
       "    <tr>\n",
       "      <th>782</th>\n",
       "      <td>2014-1173-1326</td>\n",
       "      <td>2014</td>\n",
       "      <td>1173</td>\n",
       "      <td>60</td>\n",
       "      <td>1326</td>\n",
       "      <td>59</td>\n",
       "      <td>0</td>\n",
       "      <td>11</td>\n",
       "      <td>6</td>\n",
       "      <td>Raleigh</td>\n",
       "      <td>...</td>\n",
       "      <td>113</td>\n",
       "      <td>23</td>\n",
       "      <td>25</td>\n",
       "      <td>10</td>\n",
       "      <td>9</td>\n",
       "      <td>23</td>\n",
       "      <td>25</td>\n",
       "      <td>10</td>\n",
       "      <td>9</td>\n",
       "      <td>1</td>\n",
       "    </tr>\n",
       "    <tr>\n",
       "      <th>903</th>\n",
       "      <td>2015-1277-1328</td>\n",
       "      <td>2015</td>\n",
       "      <td>1277</td>\n",
       "      <td>62</td>\n",
       "      <td>1328</td>\n",
       "      <td>58</td>\n",
       "      <td>0</td>\n",
       "      <td>7</td>\n",
       "      <td>3</td>\n",
       "      <td>New York</td>\n",
       "      <td>...</td>\n",
       "      <td>352</td>\n",
       "      <td>23</td>\n",
       "      <td>22</td>\n",
       "      <td>11</td>\n",
       "      <td>10</td>\n",
       "      <td>23</td>\n",
       "      <td>22</td>\n",
       "      <td>11</td>\n",
       "      <td>10</td>\n",
       "      <td>1</td>\n",
       "    </tr>\n",
       "    <tr>\n",
       "      <th>682</th>\n",
       "      <td>2012-1257-1307</td>\n",
       "      <td>2012</td>\n",
       "      <td>1257</td>\n",
       "      <td>59</td>\n",
       "      <td>1307</td>\n",
       "      <td>56</td>\n",
       "      <td>0</td>\n",
       "      <td>4</td>\n",
       "      <td>5</td>\n",
       "      <td>Portland</td>\n",
       "      <td>...</td>\n",
       "      <td>199</td>\n",
       "      <td>26</td>\n",
       "      <td>27</td>\n",
       "      <td>9</td>\n",
       "      <td>6</td>\n",
       "      <td>26</td>\n",
       "      <td>27</td>\n",
       "      <td>9</td>\n",
       "      <td>6</td>\n",
       "      <td>1</td>\n",
       "    </tr>\n",
       "  </tbody>\n",
       "</table>\n",
       "<p>5 rows × 99 columns</p>\n",
       "</div>"
      ],
      "text/plain": [
       "                 id  season  team1_id  team1_score  team2_id  team2_score  \\\n",
       "339  2007-1246-1437    2007      1246           67      1437           58   \n",
       "293  2006-1261-1401    2006      1261           58      1401           57   \n",
       "782  2014-1173-1326    2014      1173           60      1326           59   \n",
       "903  2015-1277-1328    2015      1277           62      1328           58   \n",
       "682  2012-1257-1307    2012      1257           59      1307           56   \n",
       "\n",
       "     numot  team1_seed  team2_seed     host_site  ...    \\\n",
       "339      0           8           9       Chicago  ...     \n",
       "293      0           4          12  Jacksonville  ...     \n",
       "782      0          11           6       Raleigh  ...     \n",
       "903      0           7           3      New York  ...     \n",
       "682      0           4           5      Portland  ...     \n",
       "\n",
       "     team2_pt_career_overall_losses  team1_pt_team_season_wins  \\\n",
       "339                             154                         21   \n",
       "293                              50                         23   \n",
       "782                             113                         23   \n",
       "903                             352                         23   \n",
       "682                             199                         26   \n",
       "\n",
       "    team2_pt_team_season_wins team1_pt_team_season_losses  \\\n",
       "339                        22                          11   \n",
       "293                        21                           8   \n",
       "782                        25                          10   \n",
       "903                        22                          11   \n",
       "682                        27                           9   \n",
       "\n",
       "     team2_pt_team_season_losses  team1_pt_coach_season_wins  \\\n",
       "339                           10                          21   \n",
       "293                            8                          23   \n",
       "782                            9                          23   \n",
       "903                           10                          23   \n",
       "682                            6                          26   \n",
       "\n",
       "     team2_pt_coach_season_wins  team1_pt_coach_season_losses  \\\n",
       "339                          22                            11   \n",
       "293                          21                             8   \n",
       "782                          25                            10   \n",
       "903                          22                            11   \n",
       "682                          27                             9   \n",
       "\n",
       "     team2_pt_coach_season_losses  label  \n",
       "339                            10      1  \n",
       "293                             8      1  \n",
       "782                             9      1  \n",
       "903                            10      1  \n",
       "682                             6      1  \n",
       "\n",
       "[5 rows x 99 columns]"
      ]
     },
     "execution_count": 39,
     "metadata": {},
     "output_type": "execute_result"
    }
   ],
   "source": [
    "df_label_1['label']=1\n",
    "df_label_1.head()"
   ]
  },
  {
   "cell_type": "code",
   "execution_count": 40,
   "metadata": {
    "collapsed": false
   },
   "outputs": [
    {
     "name": "stderr",
     "output_type": "stream",
     "text": [
      "/Users/williamz/anaconda2/lib/python2.7/site-packages/ipykernel/__main__.py:1: SettingWithCopyWarning: \n",
      "A value is trying to be set on a copy of a slice from a DataFrame.\n",
      "Try using .loc[row_indexer,col_indexer] = value instead\n",
      "\n",
      "See the caveats in the documentation: http://pandas.pydata.org/pandas-docs/stable/indexing.html#indexing-view-versus-copy\n",
      "  if __name__ == '__main__':\n"
     ]
    },
    {
     "data": {
      "text/plain": [
       "['id',\n",
       " 'season',\n",
       " 'team1_id',\n",
       " 'team1_score',\n",
       " 'team2_id',\n",
       " 'team2_score',\n",
       " 'numot',\n",
       " 'team1_seed',\n",
       " 'team2_seed',\n",
       " 'host_site']"
      ]
     },
     "execution_count": 40,
     "metadata": {},
     "output_type": "execute_result"
    }
   ],
   "source": [
    "df_label_0['label']=0\n",
    "df_0_col = df_label_0.columns.tolist()\n",
    "df_0_col[:10]"
   ]
  },
  {
   "cell_type": "code",
   "execution_count": 41,
   "metadata": {
    "collapsed": false
   },
   "outputs": [],
   "source": [
    "for i in range(len(df_0_col)):\n",
    "    if 'team2' in df_0_col[i]:\n",
    "        df_0_col[i]=df_0_col[i][:4]+'3'+df_0_col[i][5:]"
   ]
  },
  {
   "cell_type": "code",
   "execution_count": 42,
   "metadata": {
    "collapsed": false
   },
   "outputs": [],
   "source": [
    "for i in range(len(df_0_col)):\n",
    "    if 'team1' in df_0_col[i]:\n",
    "        df_0_col[i]=df_0_col[i][:4]+'2'+df_0_col[i][5:]"
   ]
  },
  {
   "cell_type": "code",
   "execution_count": 43,
   "metadata": {
    "collapsed": false
   },
   "outputs": [],
   "source": [
    "for i in range(len(df_0_col)):\n",
    "    if 'team3' in df_0_col[i]:\n",
    "        df_0_col[i]=df_0_col[i][:4]+'1'+df_0_col[i][5:]"
   ]
  },
  {
   "cell_type": "code",
   "execution_count": 44,
   "metadata": {
    "collapsed": false
   },
   "outputs": [
    {
     "data": {
      "text/plain": [
       "['id',\n",
       " 'season',\n",
       " 'team2_id',\n",
       " 'team2_score',\n",
       " 'team1_id',\n",
       " 'team1_score',\n",
       " 'numot',\n",
       " 'team2_seed',\n",
       " 'team1_seed',\n",
       " 'host_site']"
      ]
     },
     "execution_count": 44,
     "metadata": {},
     "output_type": "execute_result"
    }
   ],
   "source": [
    "df_0_col[:10]"
   ]
  },
  {
   "cell_type": "code",
   "execution_count": 45,
   "metadata": {
    "collapsed": false
   },
   "outputs": [
    {
     "data": {
      "text/html": [
       "<div>\n",
       "<table border=\"1\" class=\"dataframe\">\n",
       "  <thead>\n",
       "    <tr style=\"text-align: right;\">\n",
       "      <th></th>\n",
       "      <th>id</th>\n",
       "      <th>season</th>\n",
       "      <th>team1_id</th>\n",
       "      <th>team1_score</th>\n",
       "      <th>team2_id</th>\n",
       "      <th>team2_score</th>\n",
       "      <th>numot</th>\n",
       "      <th>team1_seed</th>\n",
       "      <th>team2_seed</th>\n",
       "      <th>host_site</th>\n",
       "      <th>...</th>\n",
       "      <th>team2_pt_career_overall_losses</th>\n",
       "      <th>team1_pt_team_season_wins</th>\n",
       "      <th>team2_pt_team_season_wins</th>\n",
       "      <th>team1_pt_team_season_losses</th>\n",
       "      <th>team2_pt_team_season_losses</th>\n",
       "      <th>team1_pt_coach_season_wins</th>\n",
       "      <th>team2_pt_coach_season_wins</th>\n",
       "      <th>team1_pt_coach_season_losses</th>\n",
       "      <th>team2_pt_coach_season_losses</th>\n",
       "      <th>label</th>\n",
       "    </tr>\n",
       "  </thead>\n",
       "  <tbody>\n",
       "    <tr>\n",
       "      <th>607</th>\n",
       "      <td>2011-1345-1389</td>\n",
       "      <td>2011</td>\n",
       "      <td>1389</td>\n",
       "      <td>43</td>\n",
       "      <td>1345</td>\n",
       "      <td>65</td>\n",
       "      <td>0</td>\n",
       "      <td>14</td>\n",
       "      <td>3</td>\n",
       "      <td>Washington</td>\n",
       "      <td>...</td>\n",
       "      <td>68</td>\n",
       "      <td>20</td>\n",
       "      <td>25</td>\n",
       "      <td>13</td>\n",
       "      <td>7</td>\n",
       "      <td>20</td>\n",
       "      <td>25</td>\n",
       "      <td>13</td>\n",
       "      <td>7</td>\n",
       "      <td>0</td>\n",
       "    </tr>\n",
       "    <tr>\n",
       "      <th>120</th>\n",
       "      <td>2003-1400-1163</td>\n",
       "      <td>2003</td>\n",
       "      <td>1163</td>\n",
       "      <td>78</td>\n",
       "      <td>1400</td>\n",
       "      <td>82</td>\n",
       "      <td>0</td>\n",
       "      <td>5</td>\n",
       "      <td>1</td>\n",
       "      <td>Minneapolis</td>\n",
       "      <td>...</td>\n",
       "      <td>183</td>\n",
       "      <td>21</td>\n",
       "      <td>22</td>\n",
       "      <td>9</td>\n",
       "      <td>6</td>\n",
       "      <td>21</td>\n",
       "      <td>22</td>\n",
       "      <td>9</td>\n",
       "      <td>6</td>\n",
       "      <td>0</td>\n",
       "    </tr>\n",
       "    <tr>\n",
       "      <th>467</th>\n",
       "      <td>2009-1156-1448</td>\n",
       "      <td>2009</td>\n",
       "      <td>1448</td>\n",
       "      <td>69</td>\n",
       "      <td>1156</td>\n",
       "      <td>84</td>\n",
       "      <td>0</td>\n",
       "      <td>4</td>\n",
       "      <td>13</td>\n",
       "      <td>Portland</td>\n",
       "      <td>...</td>\n",
       "      <td>179</td>\n",
       "      <td>24</td>\n",
       "      <td>25</td>\n",
       "      <td>6</td>\n",
       "      <td>10</td>\n",
       "      <td>24</td>\n",
       "      <td>25</td>\n",
       "      <td>6</td>\n",
       "      <td>10</td>\n",
       "      <td>0</td>\n",
       "    </tr>\n",
       "    <tr>\n",
       "      <th>477</th>\n",
       "      <td>2009-1393-1372</td>\n",
       "      <td>2009</td>\n",
       "      <td>1372</td>\n",
       "      <td>44</td>\n",
       "      <td>1393</td>\n",
       "      <td>59</td>\n",
       "      <td>0</td>\n",
       "      <td>14</td>\n",
       "      <td>3</td>\n",
       "      <td>Minneapolis</td>\n",
       "      <td>...</td>\n",
       "      <td>287</td>\n",
       "      <td>24</td>\n",
       "      <td>26</td>\n",
       "      <td>7</td>\n",
       "      <td>9</td>\n",
       "      <td>24</td>\n",
       "      <td>26</td>\n",
       "      <td>7</td>\n",
       "      <td>9</td>\n",
       "      <td>0</td>\n",
       "    </tr>\n",
       "    <tr>\n",
       "      <th>122</th>\n",
       "      <td>2003-1266-1246</td>\n",
       "      <td>2003</td>\n",
       "      <td>1246</td>\n",
       "      <td>69</td>\n",
       "      <td>1266</td>\n",
       "      <td>83</td>\n",
       "      <td>0</td>\n",
       "      <td>1</td>\n",
       "      <td>3</td>\n",
       "      <td>San Antonio</td>\n",
       "      <td>...</td>\n",
       "      <td>40</td>\n",
       "      <td>29</td>\n",
       "      <td>23</td>\n",
       "      <td>3</td>\n",
       "      <td>5</td>\n",
       "      <td>29</td>\n",
       "      <td>23</td>\n",
       "      <td>3</td>\n",
       "      <td>5</td>\n",
       "      <td>0</td>\n",
       "    </tr>\n",
       "  </tbody>\n",
       "</table>\n",
       "<p>5 rows × 99 columns</p>\n",
       "</div>"
      ],
      "text/plain": [
       "                 id  season  team1_id  team1_score  team2_id  team2_score  \\\n",
       "607  2011-1345-1389    2011      1389           43      1345           65   \n",
       "120  2003-1400-1163    2003      1163           78      1400           82   \n",
       "467  2009-1156-1448    2009      1448           69      1156           84   \n",
       "477  2009-1393-1372    2009      1372           44      1393           59   \n",
       "122  2003-1266-1246    2003      1246           69      1266           83   \n",
       "\n",
       "     numot  team1_seed  team2_seed    host_site  ...    \\\n",
       "607      0          14           3   Washington  ...     \n",
       "120      0           5           1  Minneapolis  ...     \n",
       "467      0           4          13     Portland  ...     \n",
       "477      0          14           3  Minneapolis  ...     \n",
       "122      0           1           3  San Antonio  ...     \n",
       "\n",
       "     team2_pt_career_overall_losses  team1_pt_team_season_wins  \\\n",
       "607                              68                         20   \n",
       "120                             183                         21   \n",
       "467                             179                         24   \n",
       "477                             287                         24   \n",
       "122                              40                         29   \n",
       "\n",
       "    team2_pt_team_season_wins team1_pt_team_season_losses  \\\n",
       "607                        25                          13   \n",
       "120                        22                           9   \n",
       "467                        25                           6   \n",
       "477                        26                           7   \n",
       "122                        23                           3   \n",
       "\n",
       "     team2_pt_team_season_losses  team1_pt_coach_season_wins  \\\n",
       "607                            7                          20   \n",
       "120                            6                          21   \n",
       "467                           10                          24   \n",
       "477                            9                          24   \n",
       "122                            5                          29   \n",
       "\n",
       "     team2_pt_coach_season_wins  team1_pt_coach_season_losses  \\\n",
       "607                          25                            13   \n",
       "120                          22                             9   \n",
       "467                          25                             6   \n",
       "477                          26                             7   \n",
       "122                          23                             3   \n",
       "\n",
       "     team2_pt_coach_season_losses  label  \n",
       "607                             7      0  \n",
       "120                             6      0  \n",
       "467                            10      0  \n",
       "477                             9      0  \n",
       "122                             5      0  \n",
       "\n",
       "[5 rows x 99 columns]"
      ]
     },
     "execution_count": 45,
     "metadata": {},
     "output_type": "execute_result"
    }
   ],
   "source": [
    "df_label_0_swap = df_label_0[df_0_col]\n",
    "df_label_0_swap.columns = df_label_0.columns.tolist()\n",
    "df_label_0_swap.head()"
   ]
  },
  {
   "cell_type": "code",
   "execution_count": 46,
   "metadata": {
    "collapsed": false
   },
   "outputs": [
    {
     "data": {
      "text/html": [
       "<div>\n",
       "<table border=\"1\" class=\"dataframe\">\n",
       "  <thead>\n",
       "    <tr style=\"text-align: right;\">\n",
       "      <th></th>\n",
       "      <th>id</th>\n",
       "      <th>season</th>\n",
       "      <th>team1_id</th>\n",
       "      <th>team1_score</th>\n",
       "      <th>team2_id</th>\n",
       "      <th>team2_score</th>\n",
       "      <th>numot</th>\n",
       "      <th>team1_seed</th>\n",
       "      <th>team2_seed</th>\n",
       "      <th>host_site</th>\n",
       "      <th>...</th>\n",
       "      <th>team2_pt_career_overall_losses</th>\n",
       "      <th>team1_pt_team_season_wins</th>\n",
       "      <th>team2_pt_team_season_wins</th>\n",
       "      <th>team1_pt_team_season_losses</th>\n",
       "      <th>team2_pt_team_season_losses</th>\n",
       "      <th>team1_pt_coach_season_wins</th>\n",
       "      <th>team2_pt_coach_season_wins</th>\n",
       "      <th>team1_pt_coach_season_losses</th>\n",
       "      <th>team2_pt_coach_season_losses</th>\n",
       "      <th>label</th>\n",
       "    </tr>\n",
       "  </thead>\n",
       "  <tbody>\n",
       "    <tr>\n",
       "      <th>339</th>\n",
       "      <td>2007-1246-1437</td>\n",
       "      <td>2007</td>\n",
       "      <td>1246</td>\n",
       "      <td>67</td>\n",
       "      <td>1437</td>\n",
       "      <td>58</td>\n",
       "      <td>0</td>\n",
       "      <td>8</td>\n",
       "      <td>9</td>\n",
       "      <td>Chicago</td>\n",
       "      <td>...</td>\n",
       "      <td>154</td>\n",
       "      <td>21</td>\n",
       "      <td>22</td>\n",
       "      <td>11</td>\n",
       "      <td>10</td>\n",
       "      <td>21</td>\n",
       "      <td>22</td>\n",
       "      <td>11</td>\n",
       "      <td>10</td>\n",
       "      <td>1</td>\n",
       "    </tr>\n",
       "    <tr>\n",
       "      <th>293</th>\n",
       "      <td>2006-1261-1401</td>\n",
       "      <td>2006</td>\n",
       "      <td>1261</td>\n",
       "      <td>58</td>\n",
       "      <td>1401</td>\n",
       "      <td>57</td>\n",
       "      <td>0</td>\n",
       "      <td>4</td>\n",
       "      <td>12</td>\n",
       "      <td>Jacksonville</td>\n",
       "      <td>...</td>\n",
       "      <td>50</td>\n",
       "      <td>23</td>\n",
       "      <td>21</td>\n",
       "      <td>8</td>\n",
       "      <td>8</td>\n",
       "      <td>23</td>\n",
       "      <td>21</td>\n",
       "      <td>8</td>\n",
       "      <td>8</td>\n",
       "      <td>1</td>\n",
       "    </tr>\n",
       "    <tr>\n",
       "      <th>782</th>\n",
       "      <td>2014-1173-1326</td>\n",
       "      <td>2014</td>\n",
       "      <td>1173</td>\n",
       "      <td>60</td>\n",
       "      <td>1326</td>\n",
       "      <td>59</td>\n",
       "      <td>0</td>\n",
       "      <td>11</td>\n",
       "      <td>6</td>\n",
       "      <td>Raleigh</td>\n",
       "      <td>...</td>\n",
       "      <td>113</td>\n",
       "      <td>23</td>\n",
       "      <td>25</td>\n",
       "      <td>10</td>\n",
       "      <td>9</td>\n",
       "      <td>23</td>\n",
       "      <td>25</td>\n",
       "      <td>10</td>\n",
       "      <td>9</td>\n",
       "      <td>1</td>\n",
       "    </tr>\n",
       "    <tr>\n",
       "      <th>903</th>\n",
       "      <td>2015-1277-1328</td>\n",
       "      <td>2015</td>\n",
       "      <td>1277</td>\n",
       "      <td>62</td>\n",
       "      <td>1328</td>\n",
       "      <td>58</td>\n",
       "      <td>0</td>\n",
       "      <td>7</td>\n",
       "      <td>3</td>\n",
       "      <td>New York</td>\n",
       "      <td>...</td>\n",
       "      <td>352</td>\n",
       "      <td>23</td>\n",
       "      <td>22</td>\n",
       "      <td>11</td>\n",
       "      <td>10</td>\n",
       "      <td>23</td>\n",
       "      <td>22</td>\n",
       "      <td>11</td>\n",
       "      <td>10</td>\n",
       "      <td>1</td>\n",
       "    </tr>\n",
       "    <tr>\n",
       "      <th>682</th>\n",
       "      <td>2012-1257-1307</td>\n",
       "      <td>2012</td>\n",
       "      <td>1257</td>\n",
       "      <td>59</td>\n",
       "      <td>1307</td>\n",
       "      <td>56</td>\n",
       "      <td>0</td>\n",
       "      <td>4</td>\n",
       "      <td>5</td>\n",
       "      <td>Portland</td>\n",
       "      <td>...</td>\n",
       "      <td>199</td>\n",
       "      <td>26</td>\n",
       "      <td>27</td>\n",
       "      <td>9</td>\n",
       "      <td>6</td>\n",
       "      <td>26</td>\n",
       "      <td>27</td>\n",
       "      <td>9</td>\n",
       "      <td>6</td>\n",
       "      <td>1</td>\n",
       "    </tr>\n",
       "  </tbody>\n",
       "</table>\n",
       "<p>5 rows × 99 columns</p>\n",
       "</div>"
      ],
      "text/plain": [
       "                 id  season  team1_id  team1_score  team2_id  team2_score  \\\n",
       "339  2007-1246-1437    2007      1246           67      1437           58   \n",
       "293  2006-1261-1401    2006      1261           58      1401           57   \n",
       "782  2014-1173-1326    2014      1173           60      1326           59   \n",
       "903  2015-1277-1328    2015      1277           62      1328           58   \n",
       "682  2012-1257-1307    2012      1257           59      1307           56   \n",
       "\n",
       "     numot  team1_seed  team2_seed     host_site  ...    \\\n",
       "339      0           8           9       Chicago  ...     \n",
       "293      0           4          12  Jacksonville  ...     \n",
       "782      0          11           6       Raleigh  ...     \n",
       "903      0           7           3      New York  ...     \n",
       "682      0           4           5      Portland  ...     \n",
       "\n",
       "     team2_pt_career_overall_losses  team1_pt_team_season_wins  \\\n",
       "339                             154                         21   \n",
       "293                              50                         23   \n",
       "782                             113                         23   \n",
       "903                             352                         23   \n",
       "682                             199                         26   \n",
       "\n",
       "    team2_pt_team_season_wins team1_pt_team_season_losses  \\\n",
       "339                        22                          11   \n",
       "293                        21                           8   \n",
       "782                        25                          10   \n",
       "903                        22                          11   \n",
       "682                        27                           9   \n",
       "\n",
       "     team2_pt_team_season_losses  team1_pt_coach_season_wins  \\\n",
       "339                           10                          21   \n",
       "293                            8                          23   \n",
       "782                            9                          23   \n",
       "903                           10                          23   \n",
       "682                            6                          26   \n",
       "\n",
       "     team2_pt_coach_season_wins  team1_pt_coach_season_losses  \\\n",
       "339                          22                            11   \n",
       "293                          21                             8   \n",
       "782                          25                            10   \n",
       "903                          22                            11   \n",
       "682                          27                             9   \n",
       "\n",
       "     team2_pt_coach_season_losses  label  \n",
       "339                            10      1  \n",
       "293                             8      1  \n",
       "782                             9      1  \n",
       "903                            10      1  \n",
       "682                             6      1  \n",
       "\n",
       "[5 rows x 99 columns]"
      ]
     },
     "execution_count": 46,
     "metadata": {},
     "output_type": "execute_result"
    }
   ],
   "source": [
    "df_label_1.head()"
   ]
  },
  {
   "cell_type": "code",
   "execution_count": 47,
   "metadata": {
    "collapsed": false
   },
   "outputs": [],
   "source": [
    "df_label = pd.concat([df_label_1,df_label_0_swap],ignore_index=False)"
   ]
  },
  {
   "cell_type": "code",
   "execution_count": 48,
   "metadata": {
    "collapsed": false
   },
   "outputs": [
    {
     "data": {
      "text/html": [
       "<div>\n",
       "<table border=\"1\" class=\"dataframe\">\n",
       "  <thead>\n",
       "    <tr style=\"text-align: right;\">\n",
       "      <th></th>\n",
       "      <th>id</th>\n",
       "      <th>season</th>\n",
       "      <th>team1_id</th>\n",
       "      <th>team1_score</th>\n",
       "      <th>team2_id</th>\n",
       "      <th>team2_score</th>\n",
       "      <th>numot</th>\n",
       "      <th>team1_seed</th>\n",
       "      <th>team2_seed</th>\n",
       "      <th>host_site</th>\n",
       "      <th>...</th>\n",
       "      <th>team2_pt_career_overall_losses</th>\n",
       "      <th>team1_pt_team_season_wins</th>\n",
       "      <th>team2_pt_team_season_wins</th>\n",
       "      <th>team1_pt_team_season_losses</th>\n",
       "      <th>team2_pt_team_season_losses</th>\n",
       "      <th>team1_pt_coach_season_wins</th>\n",
       "      <th>team2_pt_coach_season_wins</th>\n",
       "      <th>team1_pt_coach_season_losses</th>\n",
       "      <th>team2_pt_coach_season_losses</th>\n",
       "      <th>label</th>\n",
       "    </tr>\n",
       "  </thead>\n",
       "  <tbody>\n",
       "    <tr>\n",
       "      <th>0</th>\n",
       "      <td>2002-1373-1108</td>\n",
       "      <td>2002</td>\n",
       "      <td>1373</td>\n",
       "      <td>81</td>\n",
       "      <td>1108</td>\n",
       "      <td>77</td>\n",
       "      <td>0</td>\n",
       "      <td>16</td>\n",
       "      <td>16</td>\n",
       "      <td>Dayton</td>\n",
       "      <td>...</td>\n",
       "      <td>210</td>\n",
       "      <td>16</td>\n",
       "      <td>21</td>\n",
       "      <td>18</td>\n",
       "      <td>9</td>\n",
       "      <td>16</td>\n",
       "      <td>21</td>\n",
       "      <td>18</td>\n",
       "      <td>9</td>\n",
       "      <td>1</td>\n",
       "    </tr>\n",
       "    <tr>\n",
       "      <th>1</th>\n",
       "      <td>2002-1104-1194</td>\n",
       "      <td>2002</td>\n",
       "      <td>1194</td>\n",
       "      <td>78</td>\n",
       "      <td>1104</td>\n",
       "      <td>86</td>\n",
       "      <td>0</td>\n",
       "      <td>15</td>\n",
       "      <td>2</td>\n",
       "      <td>Greenville</td>\n",
       "      <td>...</td>\n",
       "      <td>73</td>\n",
       "      <td>19</td>\n",
       "      <td>26</td>\n",
       "      <td>11</td>\n",
       "      <td>7</td>\n",
       "      <td>19</td>\n",
       "      <td>26</td>\n",
       "      <td>11</td>\n",
       "      <td>7</td>\n",
       "      <td>0</td>\n",
       "    </tr>\n",
       "    <tr>\n",
       "      <th>2</th>\n",
       "      <td>2002-1112-1364</td>\n",
       "      <td>2002</td>\n",
       "      <td>1364</td>\n",
       "      <td>81</td>\n",
       "      <td>1112</td>\n",
       "      <td>86</td>\n",
       "      <td>0</td>\n",
       "      <td>14</td>\n",
       "      <td>3</td>\n",
       "      <td>Albuquerque</td>\n",
       "      <td>...</td>\n",
       "      <td>239</td>\n",
       "      <td>20</td>\n",
       "      <td>22</td>\n",
       "      <td>10</td>\n",
       "      <td>9</td>\n",
       "      <td>20</td>\n",
       "      <td>22</td>\n",
       "      <td>10</td>\n",
       "      <td>9</td>\n",
       "      <td>0</td>\n",
       "    </tr>\n",
       "    <tr>\n",
       "      <th>3</th>\n",
       "      <td>2002-1181-1457</td>\n",
       "      <td>2002</td>\n",
       "      <td>1181</td>\n",
       "      <td>84</td>\n",
       "      <td>1457</td>\n",
       "      <td>37</td>\n",
       "      <td>0</td>\n",
       "      <td>1</td>\n",
       "      <td>16</td>\n",
       "      <td>Greenville</td>\n",
       "      <td>...</td>\n",
       "      <td>41</td>\n",
       "      <td>29</td>\n",
       "      <td>19</td>\n",
       "      <td>3</td>\n",
       "      <td>11</td>\n",
       "      <td>29</td>\n",
       "      <td>19</td>\n",
       "      <td>3</td>\n",
       "      <td>11</td>\n",
       "      <td>1</td>\n",
       "    </tr>\n",
       "    <tr>\n",
       "      <th>4</th>\n",
       "      <td>2002-1231-1428</td>\n",
       "      <td>2002</td>\n",
       "      <td>1231</td>\n",
       "      <td>75</td>\n",
       "      <td>1428</td>\n",
       "      <td>56</td>\n",
       "      <td>0</td>\n",
       "      <td>5</td>\n",
       "      <td>12</td>\n",
       "      <td>Sacramento</td>\n",
       "      <td>...</td>\n",
       "      <td>133</td>\n",
       "      <td>20</td>\n",
       "      <td>21</td>\n",
       "      <td>11</td>\n",
       "      <td>8</td>\n",
       "      <td>20</td>\n",
       "      <td>21</td>\n",
       "      <td>11</td>\n",
       "      <td>8</td>\n",
       "      <td>1</td>\n",
       "    </tr>\n",
       "  </tbody>\n",
       "</table>\n",
       "<p>5 rows × 99 columns</p>\n",
       "</div>"
      ],
      "text/plain": [
       "               id  season  team1_id  team1_score  team2_id  team2_score  \\\n",
       "0  2002-1373-1108    2002      1373           81      1108           77   \n",
       "1  2002-1104-1194    2002      1194           78      1104           86   \n",
       "2  2002-1112-1364    2002      1364           81      1112           86   \n",
       "3  2002-1181-1457    2002      1181           84      1457           37   \n",
       "4  2002-1231-1428    2002      1231           75      1428           56   \n",
       "\n",
       "   numot  team1_seed  team2_seed    host_site  ...    \\\n",
       "0      0          16          16       Dayton  ...     \n",
       "1      0          15           2   Greenville  ...     \n",
       "2      0          14           3  Albuquerque  ...     \n",
       "3      0           1          16   Greenville  ...     \n",
       "4      0           5          12   Sacramento  ...     \n",
       "\n",
       "   team2_pt_career_overall_losses  team1_pt_team_season_wins  \\\n",
       "0                             210                         16   \n",
       "1                              73                         19   \n",
       "2                             239                         20   \n",
       "3                              41                         29   \n",
       "4                             133                         20   \n",
       "\n",
       "  team2_pt_team_season_wins team1_pt_team_season_losses  \\\n",
       "0                        21                          18   \n",
       "1                        26                          11   \n",
       "2                        22                          10   \n",
       "3                        19                           3   \n",
       "4                        21                          11   \n",
       "\n",
       "   team2_pt_team_season_losses  team1_pt_coach_season_wins  \\\n",
       "0                            9                          16   \n",
       "1                            7                          19   \n",
       "2                            9                          20   \n",
       "3                           11                          29   \n",
       "4                            8                          20   \n",
       "\n",
       "   team2_pt_coach_season_wins  team1_pt_coach_season_losses  \\\n",
       "0                          21                            18   \n",
       "1                          26                            11   \n",
       "2                          22                            10   \n",
       "3                          19                             3   \n",
       "4                          21                            11   \n",
       "\n",
       "   team2_pt_coach_season_losses  label  \n",
       "0                             9      1  \n",
       "1                             7      0  \n",
       "2                             9      0  \n",
       "3                            11      1  \n",
       "4                             8      1  \n",
       "\n",
       "[5 rows x 99 columns]"
      ]
     },
     "execution_count": 48,
     "metadata": {},
     "output_type": "execute_result"
    }
   ],
   "source": [
    "df_label=df_label.sort_index()\n",
    "df_label.head()\n",
    "#df_label.to_csv('to_tree.csv',index=False)"
   ]
  },
  {
   "cell_type": "markdown",
   "metadata": {},
   "source": [
    "# prepare for model"
   ]
  },
  {
   "cell_type": "code",
   "execution_count": 49,
   "metadata": {
    "collapsed": false
   },
   "outputs": [],
   "source": [
    "#remove rows without rpi\n",
    "df_label_rena = df_label.dropna(subset=['team1_rpi_rating','team2_rpi_rating'],axis=0,how='any')"
   ]
  },
  {
   "cell_type": "code",
   "execution_count": 50,
   "metadata": {
    "collapsed": false
   },
   "outputs": [],
   "source": [
    "#remove columns with nan\n",
    "df_label_rena = df_label_rena.dropna(axis=1,how='any')"
   ]
  },
  {
   "cell_type": "code",
   "execution_count": 51,
   "metadata": {
    "collapsed": false
   },
   "outputs": [
    {
     "data": {
      "text/plain": [
       "Index([u'id', u'season', u'team1_id', u'team1_score', u'team2_id',\n",
       "       u'team2_score', u'numot', u'team1_seed', u'team2_seed', u'host_site',\n",
       "       u'host_lat', u'host_long', u'team1_teamname', u'team2_teamname',\n",
       "       u'team1_fg2pct', u'team2_fg2pct', u'team1_fg3pct', u'team2_fg3pct',\n",
       "       u'team1_ftpct', u'team2_ftpct', u'team1_blockpct', u'team2_blockpct',\n",
       "       u'team1_oppfg2pct', u'team2_oppfg2pct', u'team1_oppfg3pct',\n",
       "       u'team2_oppfg3pct', u'team1_oppftpct', u'team2_oppftpct',\n",
       "       u'team1_oppblockpct', u'team2_oppblockpct', u'team1_f3grate',\n",
       "       u'team2_f3grate', u'team1_oppf3grate', u'team2_oppf3grate',\n",
       "       u'team1_arate', u'team2_arate', u'team1_opparate', u'team2_opparate',\n",
       "       u'team1_stlrate', u'team2_stlrate', u'team1_oppstlrate',\n",
       "       u'team2_oppstlrate', u'team1_lat', u'team2_lat', u'team1_long',\n",
       "       u'team2_long', u'team1_rpi_rating', u'team2_rpi_rating',\n",
       "       u'team1_coach_id', u'team2_coach_id', u'team1_coach_name',\n",
       "       u'team2_coach_name', u'team1_pt_school_ncaa', u'team2_pt_school_ncaa',\n",
       "       u'team1_pt_overall_ncaa', u'team2_pt_overall_ncaa',\n",
       "       u'team1_pt_school_s16', u'team2_pt_school_s16', u'team1_pt_overall_s16',\n",
       "       u'team2_pt_overall_s16', u'team1_pt_school_ff', u'team2_pt_school_ff',\n",
       "       u'team1_pt_overall_ff', u'team2_pt_overall_ff',\n",
       "       u'team1_pt_career_school_wins', u'team2_pt_career_school_wins',\n",
       "       u'team1_pt_career_school_losses', u'team2_pt_career_school_losses',\n",
       "       u'team1_pt_career_overall_losses', u'team2_pt_career_overall_losses',\n",
       "       u'team1_pt_team_season_wins', u'team2_pt_team_season_wins',\n",
       "       u'team1_pt_team_season_losses', u'team2_pt_team_season_losses',\n",
       "       u'team1_pt_coach_season_wins', u'team2_pt_coach_season_wins',\n",
       "       u'team1_pt_coach_season_losses', u'team2_pt_coach_season_losses',\n",
       "       u'label'],\n",
       "      dtype='object')"
      ]
     },
     "execution_count": 51,
     "metadata": {},
     "output_type": "execute_result"
    }
   ],
   "source": [
    "df_label_rena.columns"
   ]
  },
  {
   "cell_type": "code",
   "execution_count": 52,
   "metadata": {
    "collapsed": false
   },
   "outputs": [],
   "source": [
    "# remove ids and names\n",
    "list_remove = ['team1_id','team2_id','team1_score','team2_score',\n",
    "               'host_site','host_lat',u'host_long', u'team1_teamname', u'team2_teamname',\n",
    "               u'team1_lat', u'team2_lat', u'team1_long',\n",
    "       u'team2_long', u'team1_coach_id', u'team2_coach_id',u'team1_coach_name', u'team2_coach_name','id','season','numot']\n",
    "df_label_rena_rename = df_label_rena.drop(list_remove,axis=1)"
   ]
  },
  {
   "cell_type": "code",
   "execution_count": 53,
   "metadata": {
    "collapsed": false
   },
   "outputs": [
    {
     "data": {
      "text/html": [
       "<div>\n",
       "<table border=\"1\" class=\"dataframe\">\n",
       "  <thead>\n",
       "    <tr style=\"text-align: right;\">\n",
       "      <th></th>\n",
       "      <th>team1_seed</th>\n",
       "      <th>team2_seed</th>\n",
       "      <th>team1_fg2pct</th>\n",
       "      <th>team2_fg2pct</th>\n",
       "      <th>team1_fg3pct</th>\n",
       "      <th>team2_fg3pct</th>\n",
       "      <th>team1_ftpct</th>\n",
       "      <th>team2_ftpct</th>\n",
       "      <th>team1_blockpct</th>\n",
       "      <th>team2_blockpct</th>\n",
       "      <th>...</th>\n",
       "      <th>team2_pt_career_overall_losses</th>\n",
       "      <th>team1_pt_team_season_wins</th>\n",
       "      <th>team2_pt_team_season_wins</th>\n",
       "      <th>team1_pt_team_season_losses</th>\n",
       "      <th>team2_pt_team_season_losses</th>\n",
       "      <th>team1_pt_coach_season_wins</th>\n",
       "      <th>team2_pt_coach_season_wins</th>\n",
       "      <th>team1_pt_coach_season_losses</th>\n",
       "      <th>team2_pt_coach_season_losses</th>\n",
       "      <th>label</th>\n",
       "    </tr>\n",
       "  </thead>\n",
       "  <tbody>\n",
       "    <tr>\n",
       "      <th>0</th>\n",
       "      <td>16</td>\n",
       "      <td>16</td>\n",
       "      <td>45.6127</td>\n",
       "      <td>48.9138</td>\n",
       "      <td>34.6260</td>\n",
       "      <td>37.5556</td>\n",
       "      <td>74.4032</td>\n",
       "      <td>64.2105</td>\n",
       "      <td>11.3308</td>\n",
       "      <td>9.4340</td>\n",
       "      <td>...</td>\n",
       "      <td>210</td>\n",
       "      <td>16</td>\n",
       "      <td>21</td>\n",
       "      <td>18</td>\n",
       "      <td>9</td>\n",
       "      <td>16</td>\n",
       "      <td>21</td>\n",
       "      <td>18</td>\n",
       "      <td>9</td>\n",
       "      <td>1</td>\n",
       "    </tr>\n",
       "    <tr>\n",
       "      <th>1</th>\n",
       "      <td>15</td>\n",
       "      <td>2</td>\n",
       "      <td>45.0355</td>\n",
       "      <td>50.6579</td>\n",
       "      <td>33.9114</td>\n",
       "      <td>30.8677</td>\n",
       "      <td>66.7785</td>\n",
       "      <td>73.5782</td>\n",
       "      <td>8.1871</td>\n",
       "      <td>8.0468</td>\n",
       "      <td>...</td>\n",
       "      <td>73</td>\n",
       "      <td>19</td>\n",
       "      <td>26</td>\n",
       "      <td>11</td>\n",
       "      <td>7</td>\n",
       "      <td>19</td>\n",
       "      <td>26</td>\n",
       "      <td>11</td>\n",
       "      <td>7</td>\n",
       "      <td>0</td>\n",
       "    </tr>\n",
       "    <tr>\n",
       "      <th>2</th>\n",
       "      <td>14</td>\n",
       "      <td>3</td>\n",
       "      <td>47.0414</td>\n",
       "      <td>50.0000</td>\n",
       "      <td>40.8247</td>\n",
       "      <td>37.6093</td>\n",
       "      <td>75.8117</td>\n",
       "      <td>73.0769</td>\n",
       "      <td>8.7185</td>\n",
       "      <td>7.2512</td>\n",
       "      <td>...</td>\n",
       "      <td>239</td>\n",
       "      <td>20</td>\n",
       "      <td>22</td>\n",
       "      <td>10</td>\n",
       "      <td>9</td>\n",
       "      <td>20</td>\n",
       "      <td>22</td>\n",
       "      <td>10</td>\n",
       "      <td>9</td>\n",
       "      <td>0</td>\n",
       "    </tr>\n",
       "    <tr>\n",
       "      <th>3</th>\n",
       "      <td>1</td>\n",
       "      <td>16</td>\n",
       "      <td>57.4329</td>\n",
       "      <td>47.6420</td>\n",
       "      <td>36.2651</td>\n",
       "      <td>30.5603</td>\n",
       "      <td>68.9845</td>\n",
       "      <td>65.5914</td>\n",
       "      <td>7.2251</td>\n",
       "      <td>11.6301</td>\n",
       "      <td>...</td>\n",
       "      <td>41</td>\n",
       "      <td>29</td>\n",
       "      <td>19</td>\n",
       "      <td>3</td>\n",
       "      <td>11</td>\n",
       "      <td>29</td>\n",
       "      <td>19</td>\n",
       "      <td>3</td>\n",
       "      <td>11</td>\n",
       "      <td>1</td>\n",
       "    </tr>\n",
       "    <tr>\n",
       "      <th>4</th>\n",
       "      <td>5</td>\n",
       "      <td>12</td>\n",
       "      <td>48.3696</td>\n",
       "      <td>50.3060</td>\n",
       "      <td>40.0000</td>\n",
       "      <td>40.4719</td>\n",
       "      <td>69.4561</td>\n",
       "      <td>67.9443</td>\n",
       "      <td>12.5086</td>\n",
       "      <td>7.3961</td>\n",
       "      <td>...</td>\n",
       "      <td>133</td>\n",
       "      <td>20</td>\n",
       "      <td>21</td>\n",
       "      <td>11</td>\n",
       "      <td>8</td>\n",
       "      <td>20</td>\n",
       "      <td>21</td>\n",
       "      <td>11</td>\n",
       "      <td>8</td>\n",
       "      <td>1</td>\n",
       "    </tr>\n",
       "  </tbody>\n",
       "</table>\n",
       "<p>5 rows × 59 columns</p>\n",
       "</div>"
      ],
      "text/plain": [
       "   team1_seed  team2_seed  team1_fg2pct  team2_fg2pct  team1_fg3pct  \\\n",
       "0          16          16       45.6127       48.9138       34.6260   \n",
       "1          15           2       45.0355       50.6579       33.9114   \n",
       "2          14           3       47.0414       50.0000       40.8247   \n",
       "3           1          16       57.4329       47.6420       36.2651   \n",
       "4           5          12       48.3696       50.3060       40.0000   \n",
       "\n",
       "   team2_fg3pct  team1_ftpct  team2_ftpct  team1_blockpct  team2_blockpct  \\\n",
       "0       37.5556      74.4032      64.2105         11.3308          9.4340   \n",
       "1       30.8677      66.7785      73.5782          8.1871          8.0468   \n",
       "2       37.6093      75.8117      73.0769          8.7185          7.2512   \n",
       "3       30.5603      68.9845      65.5914          7.2251         11.6301   \n",
       "4       40.4719      69.4561      67.9443         12.5086          7.3961   \n",
       "\n",
       "   ...    team2_pt_career_overall_losses  team1_pt_team_season_wins  \\\n",
       "0  ...                               210                         16   \n",
       "1  ...                                73                         19   \n",
       "2  ...                               239                         20   \n",
       "3  ...                                41                         29   \n",
       "4  ...                               133                         20   \n",
       "\n",
       "   team2_pt_team_season_wins  team1_pt_team_season_losses  \\\n",
       "0                         21                           18   \n",
       "1                         26                           11   \n",
       "2                         22                           10   \n",
       "3                         19                            3   \n",
       "4                         21                           11   \n",
       "\n",
       "   team2_pt_team_season_losses  team1_pt_coach_season_wins  \\\n",
       "0                            9                          16   \n",
       "1                            7                          19   \n",
       "2                            9                          20   \n",
       "3                           11                          29   \n",
       "4                            8                          20   \n",
       "\n",
       "   team2_pt_coach_season_wins  team1_pt_coach_season_losses  \\\n",
       "0                          21                            18   \n",
       "1                          26                            11   \n",
       "2                          22                            10   \n",
       "3                          19                             3   \n",
       "4                          21                            11   \n",
       "\n",
       "   team2_pt_coach_season_losses  label  \n",
       "0                             9      1  \n",
       "1                             7      0  \n",
       "2                             9      0  \n",
       "3                            11      1  \n",
       "4                             8      1  \n",
       "\n",
       "[5 rows x 59 columns]"
      ]
     },
     "execution_count": 53,
     "metadata": {},
     "output_type": "execute_result"
    }
   ],
   "source": [
    "df_label_rena_rename.head()"
   ]
  },
  {
   "cell_type": "markdown",
   "metadata": {},
   "source": [
    "# Random Forest"
   ]
  },
  {
   "cell_type": "code",
   "execution_count": 54,
   "metadata": {
    "collapsed": true
   },
   "outputs": [],
   "source": [
    "predictor = df_label_rena_rename.drop('label',axis=1)\n",
    "label = df_label_rena_rename.label"
   ]
  },
  {
   "cell_type": "code",
   "execution_count": 55,
   "metadata": {
    "collapsed": false
   },
   "outputs": [
    {
     "data": {
      "text/plain": [
       "((616, 58), (264, 58))"
      ]
     },
     "execution_count": 55,
     "metadata": {},
     "output_type": "execute_result"
    }
   ],
   "source": [
    "pred_train,pred_test,lab_train,lab_test = train_test_split(predictor,label,test_size=0.3,random_state=2016)\n",
    "pred_train.shape,pred_test.shape"
   ]
  },
  {
   "cell_type": "code",
   "execution_count": 56,
   "metadata": {
    "collapsed": false
   },
   "outputs": [
    {
     "data": {
      "text/plain": [
       "RandomForestRegressor(bootstrap=True, criterion='mse', max_depth=6,\n",
       "           max_features='auto', max_leaf_nodes=None, min_samples_leaf=1,\n",
       "           min_samples_split=2, min_weight_fraction_leaf=0.0,\n",
       "           n_estimators=25, n_jobs=1, oob_score=False, random_state=2016,\n",
       "           verbose=0, warm_start=False)"
      ]
     },
     "execution_count": 56,
     "metadata": {},
     "output_type": "execute_result"
    }
   ],
   "source": [
    "from sklearn.ensemble import RandomForestRegressor\n",
    "\n",
    "classifier = RandomForestRegressor(n_estimators=25, random_state=2016, max_depth = 6)\n",
    "classifier.fit(pred_train,lab_train)"
   ]
  },
  {
   "cell_type": "code",
   "execution_count": 57,
   "metadata": {
    "collapsed": false
   },
   "outputs": [],
   "source": [
    "predictions = classifier.predict(pred_test)"
   ]
  },
  {
   "cell_type": "code",
   "execution_count": 58,
   "metadata": {
    "collapsed": false
   },
   "outputs": [
    {
     "data": {
      "text/plain": [
       "0.6159877636791975"
      ]
     },
     "execution_count": 58,
     "metadata": {},
     "output_type": "execute_result"
    }
   ],
   "source": [
    "original_loss = sklearn.metrics.log_loss(lab_test,predictions)\n",
    "original_loss"
   ]
  },
  {
   "cell_type": "markdown",
   "metadata": {},
   "source": [
    "# feature remove"
   ]
  },
  {
   "cell_type": "code",
   "execution_count": 59,
   "metadata": {
    "collapsed": true
   },
   "outputs": [],
   "source": [
    "def Pick_feature(pred_train,pred_test,lab_train,lab_test):\n",
    "    log_loss=np.array([])\n",
    "    for i in range(pred_train.shape[1]/2):\n",
    "        feature_remove=pred_train.columns.tolist()[i*2:i*2+2]\n",
    "        new_pred_train = pred_train.drop(feature_remove,axis=1)\n",
    "        new_pred_test = pred_test.drop(feature_remove,axis=1)\n",
    "        classifier = RandomForestRegressor(n_estimators=25, random_state=2016, max_depth = 6)\n",
    "        classifier.fit(new_pred_train,lab_train)\n",
    "    \n",
    "        predictions = classifier.predict(new_pred_test)\n",
    "        log_loss = np.append(log_loss,sklearn.metrics.log_loss(lab_test,predictions))\n",
    "        \n",
    "    return np.where(log_loss==min(log_loss))[0][0],min(log_loss)"
   ]
  },
  {
   "cell_type": "code",
   "execution_count": 60,
   "metadata": {
    "collapsed": false
   },
   "outputs": [
    {
     "data": {
      "text/plain": [
       "(17, 0.60245491140160978)"
      ]
     },
     "execution_count": 60,
     "metadata": {},
     "output_type": "execute_result"
    }
   ],
   "source": [
    "Pick_feature(pred_train,pred_test,lab_train,lab_test)"
   ]
  },
  {
   "cell_type": "code",
   "execution_count": 61,
   "metadata": {
    "collapsed": false
   },
   "outputs": [
    {
     "data": {
      "text/plain": [
       "Index([u'team1_seed', u'team2_seed', u'team1_fg2pct', u'team2_fg2pct',\n",
       "       u'team1_fg3pct', u'team2_fg3pct', u'team1_ftpct', u'team2_ftpct',\n",
       "       u'team1_blockpct', u'team2_blockpct', u'team1_oppfg2pct',\n",
       "       u'team2_oppfg2pct', u'team1_oppfg3pct', u'team2_oppfg3pct',\n",
       "       u'team1_oppftpct', u'team2_oppftpct', u'team1_oppblockpct',\n",
       "       u'team2_oppblockpct', u'team1_f3grate', u'team2_f3grate',\n",
       "       u'team1_oppf3grate', u'team2_oppf3grate', u'team1_arate',\n",
       "       u'team2_arate', u'team1_opparate', u'team2_opparate', u'team1_stlrate',\n",
       "       u'team2_stlrate', u'team1_oppstlrate', u'team2_oppstlrate',\n",
       "       u'team1_rpi_rating', u'team2_rpi_rating', u'team1_pt_school_ncaa',\n",
       "       u'team2_pt_school_ncaa', u'team1_pt_overall_ncaa',\n",
       "       u'team2_pt_overall_ncaa', u'team1_pt_school_s16',\n",
       "       u'team2_pt_school_s16', u'team1_pt_overall_s16',\n",
       "       u'team2_pt_overall_s16', u'team1_pt_school_ff', u'team2_pt_school_ff',\n",
       "       u'team1_pt_overall_ff', u'team2_pt_overall_ff',\n",
       "       u'team1_pt_career_school_wins', u'team2_pt_career_school_wins',\n",
       "       u'team1_pt_career_school_losses', u'team2_pt_career_school_losses',\n",
       "       u'team1_pt_career_overall_losses', u'team2_pt_career_overall_losses',\n",
       "       u'team1_pt_team_season_wins', u'team2_pt_team_season_wins',\n",
       "       u'team1_pt_team_season_losses', u'team2_pt_team_season_losses',\n",
       "       u'team1_pt_coach_season_wins', u'team2_pt_coach_season_wins',\n",
       "       u'team1_pt_coach_season_losses', u'team2_pt_coach_season_losses'],\n",
       "      dtype='object')"
      ]
     },
     "execution_count": 61,
     "metadata": {},
     "output_type": "execute_result"
    }
   ],
   "source": [
    "pred_train.columns"
   ]
  },
  {
   "cell_type": "code",
   "execution_count": 62,
   "metadata": {
    "collapsed": false
   },
   "outputs": [
    {
     "name": "stdout",
     "output_type": "stream",
     "text": [
      "(17, 'team1_pt_overall_ncaa', 0.60245491140160978)\n",
      "(6, 'team1_oppfg3pct', 0.59054162952873435)\n",
      "(20, 'team1_pt_career_school_wins', 0.58143151956655581)\n",
      "(16, 'team1_pt_school_s16', 0.57263776496724617)\n",
      "(15, 'team1_pt_school_ncaa', 0.56658083148838478)\n",
      "(6, 'team1_oppftpct', 0.56184682090484694)\n",
      "(14, 'team1_pt_overall_s16', 0.56480427510424436)\n"
     ]
    }
   ],
   "source": [
    "loss0=loss1=original_loss\n",
    "pred_train0=pred_train.copy()\n",
    "pred_test0=pred_test.copy()\n",
    "j=0\n",
    "while j<10:\n",
    "    loss0=loss1\n",
    "    ind,loss1 = Pick_feature(pred_train0,pred_test0,lab_train,lab_test)\n",
    "    print (ind,pred_train0.columns[ind*2],loss1)\n",
    "    if loss1>=loss0:\n",
    "        break\n",
    "    pred_train0 = pred_train0.drop(pred_train0.columns[ind*2:ind*2+2],axis = 1)\n",
    "    pred_test0 = pred_test0.drop(pred_test0.columns[ind*2:ind*2+2],axis = 1)\n",
    "    j+=1"
   ]
  },
  {
   "cell_type": "code",
   "execution_count": 63,
   "metadata": {
    "collapsed": false
   },
   "outputs": [],
   "source": [
    "col_used = pred_train0.columns.tolist()"
   ]
  },
  {
   "cell_type": "markdown",
   "metadata": {},
   "source": [
    "# Test features"
   ]
  },
  {
   "cell_type": "code",
   "execution_count": 87,
   "metadata": {
    "collapsed": false
   },
   "outputs": [
    {
     "data": {
      "text/plain": [
       "((816, 46), (64, 46), (64,))"
      ]
     },
     "execution_count": 87,
     "metadata": {},
     "output_type": "execute_result"
    }
   ],
   "source": [
    "#test 2014\n",
    "train_2014 = df_label_rena[df_label.season!=2014][col_used]\n",
    "train_2014_label = df_label_rena[df_label.season!=2014]['label']\n",
    "test_2014 = df_label_rena[df_label.season==2014][col_used]\n",
    "test_2014_label = df_label_rena[df_label.season==2014]['label']\n",
    "train_2014.shape,test_2014.shape,test_2014_label.shape"
   ]
  },
  {
   "cell_type": "code",
   "execution_count": 90,
   "metadata": {
    "collapsed": false
   },
   "outputs": [
    {
     "data": {
      "text/plain": [
       "((815, 46), (65, 46))"
      ]
     },
     "execution_count": 90,
     "metadata": {},
     "output_type": "execute_result"
    }
   ],
   "source": [
    "#test 2015\n",
    "train_2015 = df_label_rena[df_label.season!=2015][col_used]\n",
    "train_2015_label = df_label_rena[df_label.season!=2015]['label']\n",
    "test_2015 = df_label_rena[df_label.season==2015][col_used]\n",
    "test_2015_label = df_label_rena[df_label.season==2015]['label']\n",
    "train_2015.shape,test_2015.shape"
   ]
  },
  {
   "cell_type": "code",
   "execution_count": 118,
   "metadata": {
    "collapsed": false
   },
   "outputs": [
    {
     "data": {
      "text/plain": [
       "0.54914914774821177"
      ]
     },
     "execution_count": 118,
     "metadata": {},
     "output_type": "execute_result"
    }
   ],
   "source": [
    "classifier = RandomForestRegressor(n_estimators=25,max_depth=6,random_state=2016)\n",
    "classifier.fit(train_2014,train_2014_label)\n",
    "pred_2014 = classifier.predict(test_2014)\n",
    "sklearn.metrics.log_loss(test_2014_label,pred_2014)"
   ]
  },
  {
   "cell_type": "code",
   "execution_count": 119,
   "metadata": {
    "collapsed": false
   },
   "outputs": [],
   "source": [
    "df_2014 = pd.DataFrame(df_label_rena[df_label_rena.season==2014].id)\n",
    "df_2014['pred'] = pred_2014.T\n",
    "df_2014.to_csv('fea_rf_2014.csv',index=False)"
   ]
  },
  {
   "cell_type": "code",
   "execution_count": 91,
   "metadata": {
    "collapsed": false
   },
   "outputs": [
    {
     "data": {
      "text/plain": [
       "0.51784597258070431"
      ]
     },
     "execution_count": 91,
     "metadata": {},
     "output_type": "execute_result"
    }
   ],
   "source": [
    "classifier.fit(train_2015,train_2015_label)\n",
    "pred_2015 = classifier.predict(test_2015)\n",
    "sklearn.metrics.log_loss(test_2015_label,pred_2015)"
   ]
  },
  {
   "cell_type": "code",
   "execution_count": 120,
   "metadata": {
    "collapsed": true
   },
   "outputs": [],
   "source": [
    "df_2015 = pd.DataFrame(df_label_rena[df_label_rena.season==2015].id)\n",
    "df_2015['pred'] = pred_2015.T\n",
    "df_2015.to_csv('fea_rf_2015.csv',index=False)"
   ]
  },
  {
   "cell_type": "code",
   "execution_count": null,
   "metadata": {
    "collapsed": true
   },
   "outputs": [],
   "source": []
  },
  {
   "cell_type": "code",
   "execution_count": null,
   "metadata": {
    "collapsed": true
   },
   "outputs": [],
   "source": []
  },
  {
   "cell_type": "markdown",
   "metadata": {},
   "source": [
    "# submit prediction"
   ]
  },
  {
   "cell_type": "code",
   "execution_count": 121,
   "metadata": {
    "collapsed": false
   },
   "outputs": [
    {
     "data": {
      "text/plain": [
       "(2278, 46)"
      ]
     },
     "execution_count": 121,
     "metadata": {},
     "output_type": "execute_result"
    }
   ],
   "source": [
    "final_pred = pd.read_csv('march_madness_final_4.csv')\n",
    "#final_pred.game_id = final_pred.game_id.apply(lambda s:s.replace('-','_'))\n",
    "final_pred_picked = final_pred[col_used]\n",
    "final_pred_picked.shape"
   ]
  },
  {
   "cell_type": "code",
   "execution_count": 122,
   "metadata": {
    "collapsed": false
   },
   "outputs": [],
   "source": [
    "rf_final = RandomForestRegressor(n_estimators=25, max_depth=6, random_state=2016)\n",
    "rf_final.fit(pred_test0,lab_test)\n",
    "final_pred_result = rf_final.predict(final_pred_picked)"
   ]
  },
  {
   "cell_type": "code",
   "execution_count": 125,
   "metadata": {
    "collapsed": false
   },
   "outputs": [
    {
     "data": {
      "text/html": [
       "<div>\n",
       "<table border=\"1\" class=\"dataframe\">\n",
       "  <thead>\n",
       "    <tr style=\"text-align: right;\">\n",
       "      <th></th>\n",
       "      <th>id</th>\n",
       "      <th>pred</th>\n",
       "    </tr>\n",
       "  </thead>\n",
       "  <tbody>\n",
       "    <tr>\n",
       "      <th>0</th>\n",
       "      <td>2016-1314-1462</td>\n",
       "      <td>0.61082</td>\n",
       "    </tr>\n",
       "    <tr>\n",
       "      <th>1</th>\n",
       "      <td>2016-1314-1452</td>\n",
       "      <td>0.629707</td>\n",
       "    </tr>\n",
       "    <tr>\n",
       "      <th>2</th>\n",
       "      <td>2016-1314-1246</td>\n",
       "      <td>0.418943</td>\n",
       "    </tr>\n",
       "    <tr>\n",
       "      <th>3</th>\n",
       "      <td>2016-1314-1231</td>\n",
       "      <td>0.528457</td>\n",
       "    </tr>\n",
       "    <tr>\n",
       "      <th>4</th>\n",
       "      <td>2016-1314-1323</td>\n",
       "      <td>0.451085</td>\n",
       "    </tr>\n",
       "  </tbody>\n",
       "</table>\n",
       "</div>"
      ],
      "text/plain": [
       "               id      pred\n",
       "0  2016-1314-1462   0.61082\n",
       "1  2016-1314-1452  0.629707\n",
       "2  2016-1314-1246  0.418943\n",
       "3  2016-1314-1231  0.528457\n",
       "4  2016-1314-1323  0.451085"
      ]
     },
     "execution_count": 125,
     "metadata": {},
     "output_type": "execute_result"
    }
   ],
   "source": [
    "submit_df = pd.DataFrame([final_pred.game_id,final_pred_result]).T\n",
    "submit_df.columns = ['id','pred']\n",
    "submit_df.to_csv('feature_sel_2016.csv',index=False)\n",
    "submit_df.head()\n"
   ]
  },
  {
   "cell_type": "code",
   "execution_count": 101,
   "metadata": {
    "collapsed": false
   },
   "outputs": [],
   "source": [
    "sample_submit = pd.read_csv('kaggle_submit111.csv')\n",
    "submit_pred = sample_submit[col_used]"
   ]
  },
  {
   "cell_type": "code",
   "execution_count": 105,
   "metadata": {
    "collapsed": false
   },
   "outputs": [
    {
     "data": {
      "text/html": [
       "<div>\n",
       "<table border=\"1\" class=\"dataframe\">\n",
       "  <thead>\n",
       "    <tr style=\"text-align: right;\">\n",
       "      <th></th>\n",
       "      <th>Id</th>\n",
       "      <th>Pred</th>\n",
       "    </tr>\n",
       "  </thead>\n",
       "  <tbody>\n",
       "    <tr>\n",
       "      <th>0</th>\n",
       "      <td>2016_1112_1114</td>\n",
       "      <td>0.374488</td>\n",
       "    </tr>\n",
       "    <tr>\n",
       "      <th>1</th>\n",
       "      <td>2016_1112_1122</td>\n",
       "      <td>0.765059</td>\n",
       "    </tr>\n",
       "    <tr>\n",
       "      <th>2</th>\n",
       "      <td>2016_1112_1124</td>\n",
       "      <td>0.296528</td>\n",
       "    </tr>\n",
       "    <tr>\n",
       "      <th>3</th>\n",
       "      <td>2016_1112_1138</td>\n",
       "      <td>0.718644</td>\n",
       "    </tr>\n",
       "    <tr>\n",
       "      <th>4</th>\n",
       "      <td>2016_1112_1139</td>\n",
       "      <td>0.458137</td>\n",
       "    </tr>\n",
       "  </tbody>\n",
       "</table>\n",
       "</div>"
      ],
      "text/plain": [
       "               Id      Pred\n",
       "0  2016_1112_1114  0.374488\n",
       "1  2016_1112_1122  0.765059\n",
       "2  2016_1112_1124  0.296528\n",
       "3  2016_1112_1138  0.718644\n",
       "4  2016_1112_1139  0.458137"
      ]
     },
     "execution_count": 105,
     "metadata": {},
     "output_type": "execute_result"
    }
   ],
   "source": [
    "submit_df = pd.DataFrame([sample_submit.Id,final_pred_result]).T\n",
    "submit_df.columns.values[1]='Pred'\n",
    "submit_df.head()"
   ]
  },
  {
   "cell_type": "code",
   "execution_count": 106,
   "metadata": {
    "collapsed": true
   },
   "outputs": [],
   "source": [
    "submit_df.to_csv('submit_v1.csv',index=False)"
   ]
  },
  {
   "cell_type": "code",
   "execution_count": null,
   "metadata": {
    "collapsed": true
   },
   "outputs": [],
   "source": []
  },
  {
   "cell_type": "code",
   "execution_count": null,
   "metadata": {
    "collapsed": true
   },
   "outputs": [],
   "source": []
  },
  {
   "cell_type": "code",
   "execution_count": null,
   "metadata": {
    "collapsed": true
   },
   "outputs": [],
   "source": []
  },
  {
   "cell_type": "markdown",
   "metadata": {},
   "source": [
    "# feature importance"
   ]
  },
  {
   "cell_type": "code",
   "execution_count": 34,
   "metadata": {
    "collapsed": true
   },
   "outputs": [],
   "source": [
    "from sklearn.ensemble import ExtraTreesRegressor"
   ]
  },
  {
   "cell_type": "code",
   "execution_count": 38,
   "metadata": {
    "collapsed": false
   },
   "outputs": [
    {
     "data": {
      "text/plain": [
       "ExtraTreesRegressor(bootstrap=False, criterion='mse', max_depth=None,\n",
       "          max_features='auto', max_leaf_nodes=None, min_samples_leaf=1,\n",
       "          min_samples_split=2, min_weight_fraction_leaf=0.0,\n",
       "          n_estimators=10, n_jobs=1, oob_score=False, random_state=None,\n",
       "          verbose=0, warm_start=False)"
      ]
     },
     "execution_count": 38,
     "metadata": {},
     "output_type": "execute_result"
    }
   ],
   "source": [
    "model = ExtraTreesRegressor()\n",
    "model.fit(pred_train0,lab_train)"
   ]
  },
  {
   "cell_type": "code",
   "execution_count": 39,
   "metadata": {
    "collapsed": false
   },
   "outputs": [
    {
     "data": {
      "text/plain": [
       "[('team1_seed', 0.18261),\n",
       " ('team2_rpi_rating', 0.07843),\n",
       " ('team2_seed', 0.07417),\n",
       " ('team1_rpi_rating', 0.05544),\n",
       " ('team2_opparate', 0.02729),\n",
       " ('team1_opparate', 0.02224),\n",
       " ('team2_f3grate', 0.02191),\n",
       " ('team1_blockpct', 0.02125),\n",
       " ('team2_ftpct', 0.01968),\n",
       " ('team1_f3grate', 0.01924),\n",
       " ('team1_oppf3grate', 0.01819),\n",
       " ('team1_pt_coach_season_wins', 0.01786),\n",
       " ('team2_pt_overall_s16', 0.01721),\n",
       " ('team1_oppfg2pct', 0.01701),\n",
       " ('team2_stlrate', 0.01691),\n",
       " ('team1_pt_school_ff', 0.01618),\n",
       " ('team2_oppstlrate', 0.01602),\n",
       " ('team1_pt_overall_s16', 0.01593),\n",
       " ('team2_arate', 0.01576),\n",
       " ('team1_stlrate', 0.01552)]"
      ]
     },
     "execution_count": 39,
     "metadata": {},
     "output_type": "execute_result"
    }
   ],
   "source": [
    "importance0 = dict(zip(pred_train0.columns.tolist(),[ round(i,5) for i in model.feature_importances_]))\n",
    "sorted(importance0.items(),key= lambda s:s[1],reverse=True)[:20]\n"
   ]
  },
  {
   "cell_type": "code",
   "execution_count": 37,
   "metadata": {
    "collapsed": false
   },
   "outputs": [
    {
     "data": {
      "text/plain": [
       "[('team1_seed', 0.22995),\n",
       " ('team2_rpi_rating', 0.15565),\n",
       " ('team1_rpi_rating', 0.10702),\n",
       " ('team1_blockpct', 0.03154),\n",
       " ('team2_seed', 0.02438),\n",
       " ('team2_pt_overall_ncaa', 0.02114),\n",
       " ('team2_oppfg3pct', 0.01794),\n",
       " ('team2_oppftpct', 0.01721),\n",
       " ('team1_opparate', 0.01621),\n",
       " ('team2_oppf3grate', 0.0161),\n",
       " ('team2_fg2pct', 0.01517),\n",
       " ('team2_stlrate', 0.01479),\n",
       " ('team2_arate', 0.01402),\n",
       " ('team2_pt_school_ncaa', 0.0137),\n",
       " ('team2_pt_career_school_wins', 0.01241),\n",
       " ('team1_oppfg2pct', 0.01216),\n",
       " ('team1_oppblockpct', 0.01166),\n",
       " ('team2_blockpct', 0.01138),\n",
       " ('team1_f3grate', 0.01134),\n",
       " ('team1_oppfg3pct', 0.01112)]"
      ]
     },
     "execution_count": 37,
     "metadata": {},
     "output_type": "execute_result"
    }
   ],
   "source": [
    "importance = dict(zip(predictor.columns.tolist(),[ round(i,5) for i in classifier.feature_importances_]))\n",
    "sorted(importance.items(),key= lambda s:s[1],reverse=True)[:20]"
   ]
  }
 ],
 "metadata": {
  "kernelspec": {
   "display_name": "Python 2",
   "language": "python",
   "name": "python2"
  },
  "language_info": {
   "codemirror_mode": {
    "name": "ipython",
    "version": 2
   },
   "file_extension": ".py",
   "mimetype": "text/x-python",
   "name": "python",
   "nbconvert_exporter": "python",
   "pygments_lexer": "ipython2",
   "version": "2.7.11"
  }
 },
 "nbformat": 4,
 "nbformat_minor": 0
}
