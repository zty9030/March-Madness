{
 "cells": [
  {
   "cell_type": "code",
   "execution_count": 1,
   "metadata": {
    "collapsed": true
   },
   "outputs": [],
   "source": [
    "import pandas as pd\n",
    "import numpy as np\n",
    "import matplotlib.pyplot as plt"
   ]
  },
  {
   "cell_type": "code",
   "execution_count": 57,
   "metadata": {
    "collapsed": true
   },
   "outputs": [],
   "source": [
    "df_orginal = pd.read_csv('Original_data_2002_2015.csv')"
   ]
  },
  {
   "cell_type": "code",
   "execution_count": 58,
   "metadata": {
    "collapsed": false
   },
   "outputs": [],
   "source": [
    "df_2015 = df_orginal[df_orginal.season==2015]"
   ]
  },
  {
   "cell_type": "code",
   "execution_count": 67,
   "metadata": {
    "collapsed": false
   },
   "outputs": [],
   "source": [
    "team2_col = [i for i in df_2015.columns.tolist() if 'team2_' in i]\n",
    "team1_col = [i for i in df_2015.columns.tolist() if 'team1_' in i]\n",
    "df_2015_team1 = df_2015[team1_col]\n",
    "df_2015_team2 = df_2015[team2_col]\n",
    "df_2015_team1.columns = [i[6:] for i in df_2015_team1.columns.tolist()]\n",
    "df_2015_team2.columns = [i[6:] for i in df_2015_team2.columns.tolist()]"
   ]
  },
  {
   "cell_type": "code",
   "execution_count": 73,
   "metadata": {
    "collapsed": false
   },
   "outputs": [],
   "source": [
    "df_2015_team = pd.concat([df_2015_team1,df_2015_team2],ignore_index=True)\n",
    "df_2015_team = df_2015_team.drop(['score','seed'],axis=1)\n",
    "df_2015_team = df_2015_team.drop_duplicates(subset = 'id')\n",
    "df_2015_team = df_2015_describe.reset_index(drop=True)"
   ]
  },
  {
   "cell_type": "code",
   "execution_count": 74,
   "metadata": {
    "collapsed": false
   },
   "outputs": [],
   "source": [
    "col_describe = ['teamname','pt_coach_season_wins','pt_coach_season_losses','fg2pct','fg3pct','ftpct','arate','blockpct','stlrate',\n",
    "               'rpi_rating','tempo']\n",
    "df_2015_describe = df_2015_team[col_describe]\n",
    "df_2015_describe = df_2015_describe.dropna(axis=0)"
   ]
  },
  {
   "cell_type": "code",
   "execution_count": 106,
   "metadata": {
    "collapsed": false
   },
   "outputs": [
    {
     "data": {
      "text/html": [
       "<div>\n",
       "<table border=\"1\" class=\"dataframe\">\n",
       "  <thead>\n",
       "    <tr style=\"text-align: right;\">\n",
       "      <th></th>\n",
       "      <th>teamname</th>\n",
       "      <th>pt_coach_season_wins</th>\n",
       "      <th>pt_coach_season_losses</th>\n",
       "      <th>fg2pct</th>\n",
       "      <th>fg3pct</th>\n",
       "      <th>ftpct</th>\n",
       "      <th>arate</th>\n",
       "      <th>blockpct</th>\n",
       "      <th>stlrate</th>\n",
       "      <th>rpi_rating</th>\n",
       "      <th>tempo</th>\n",
       "    </tr>\n",
       "  </thead>\n",
       "  <tbody>\n",
       "    <tr>\n",
       "      <th>0</th>\n",
       "      <td>Hampton</td>\n",
       "      <td>17</td>\n",
       "      <td>17</td>\n",
       "      <td>45.9416</td>\n",
       "      <td>30.4065</td>\n",
       "      <td>65.2120</td>\n",
       "      <td>46.4807</td>\n",
       "      <td>10.7570</td>\n",
       "      <td>0.0961</td>\n",
       "      <td>0.563</td>\n",
       "      <td>69.1423</td>\n",
       "    </tr>\n",
       "    <tr>\n",
       "      <th>1</th>\n",
       "      <td>Mississippi</td>\n",
       "      <td>21</td>\n",
       "      <td>12</td>\n",
       "      <td>46.8927</td>\n",
       "      <td>33.8235</td>\n",
       "      <td>77.8417</td>\n",
       "      <td>52.1574</td>\n",
       "      <td>11.1528</td>\n",
       "      <td>0.0983</td>\n",
       "      <td>0.565</td>\n",
       "      <td>66.5662</td>\n",
       "    </tr>\n",
       "    <tr>\n",
       "      <th>2</th>\n",
       "      <td>Dayton</td>\n",
       "      <td>25</td>\n",
       "      <td>8</td>\n",
       "      <td>52.9064</td>\n",
       "      <td>35.1485</td>\n",
       "      <td>68.2741</td>\n",
       "      <td>60.8000</td>\n",
       "      <td>7.1979</td>\n",
       "      <td>0.1079</td>\n",
       "      <td>0.563</td>\n",
       "      <td>64.3660</td>\n",
       "    </tr>\n",
       "    <tr>\n",
       "      <th>3</th>\n",
       "      <td>Robert Morris</td>\n",
       "      <td>20</td>\n",
       "      <td>14</td>\n",
       "      <td>47.5845</td>\n",
       "      <td>38.0180</td>\n",
       "      <td>71.4065</td>\n",
       "      <td>50.3741</td>\n",
       "      <td>8.2835</td>\n",
       "      <td>0.1271</td>\n",
       "      <td>0.565</td>\n",
       "      <td>66.7335</td>\n",
       "    </tr>\n",
       "    <tr>\n",
       "      <th>4</th>\n",
       "      <td>Arizona</td>\n",
       "      <td>31</td>\n",
       "      <td>3</td>\n",
       "      <td>53.4495</td>\n",
       "      <td>35.9833</td>\n",
       "      <td>69.9085</td>\n",
       "      <td>53.1938</td>\n",
       "      <td>10.1582</td>\n",
       "      <td>0.1070</td>\n",
       "      <td>0.563</td>\n",
       "      <td>66.8428</td>\n",
       "    </tr>\n",
       "  </tbody>\n",
       "</table>\n",
       "</div>"
      ],
      "text/plain": [
       "        teamname  pt_coach_season_wins  pt_coach_season_losses   fg2pct  \\\n",
       "0        Hampton                    17                      17  45.9416   \n",
       "1    Mississippi                    21                      12  46.8927   \n",
       "2         Dayton                    25                       8  52.9064   \n",
       "3  Robert Morris                    20                      14  47.5845   \n",
       "4        Arizona                    31                       3  53.4495   \n",
       "\n",
       "    fg3pct    ftpct    arate  blockpct  stlrate  rpi_rating    tempo  \n",
       "0  30.4065  65.2120  46.4807   10.7570   0.0961       0.563  69.1423  \n",
       "1  33.8235  77.8417  52.1574   11.1528   0.0983       0.565  66.5662  \n",
       "2  35.1485  68.2741  60.8000    7.1979   0.1079       0.563  64.3660  \n",
       "3  38.0180  71.4065  50.3741    8.2835   0.1271       0.565  66.7335  \n",
       "4  35.9833  69.9085  53.1938   10.1582   0.1070       0.563  66.8428  "
      ]
     },
     "execution_count": 106,
     "metadata": {},
     "output_type": "execute_result"
    }
   ],
   "source": [
    "df_2015_describe.head()"
   ]
  },
  {
   "cell_type": "code",
   "execution_count": 115,
   "metadata": {
    "collapsed": false
   },
   "outputs": [],
   "source": [
    "df_2015_radar = pd.DataFrame([])\n",
    "df_2015_radar['teamname'] = df_2015_describe.teamname\n",
    "df_2015_radar['offensive'] = df_2015_describe.fg2pct+df_2015_describe.fg3pct+df_2015_describe.ftpct+df_2015_describe.arate\n",
    "df_2015_radar['defensive'] = df_2015_describe.blockpct+df_2015_describe.stlrate*100\n",
    "df_2015_radar['tempo'] = df_2015_describe.tempo\n",
    "df_2015_radar['coach'] = df_2015_describe.pt_coach_season_wins.astype(float)/(df_2015_describe.pt_coach_season_losses+df_2015_describe.pt_coach_season_wins)\n",
    "df_2015_radar['rpi_rating'] = df_2015_describe.rpi_rating"
   ]
  },
  {
   "cell_type": "code",
   "execution_count": 108,
   "metadata": {
    "collapsed": false
   },
   "outputs": [
    {
     "data": {
      "text/html": [
       "<div>\n",
       "<table border=\"1\" class=\"dataframe\">\n",
       "  <thead>\n",
       "    <tr style=\"text-align: right;\">\n",
       "      <th></th>\n",
       "      <th>teamname</th>\n",
       "      <th>offensive</th>\n",
       "      <th>defensive</th>\n",
       "      <th>tempo</th>\n",
       "      <th>coach</th>\n",
       "      <th>rpi_rating</th>\n",
       "    </tr>\n",
       "  </thead>\n",
       "  <tbody>\n",
       "    <tr>\n",
       "      <th>0</th>\n",
       "      <td>Hampton</td>\n",
       "      <td>188.0408</td>\n",
       "      <td>20.3670</td>\n",
       "      <td>69.1423</td>\n",
       "      <td>0.500000</td>\n",
       "      <td>0.563</td>\n",
       "    </tr>\n",
       "    <tr>\n",
       "      <th>1</th>\n",
       "      <td>Mississippi</td>\n",
       "      <td>210.7153</td>\n",
       "      <td>20.9828</td>\n",
       "      <td>66.5662</td>\n",
       "      <td>0.636364</td>\n",
       "      <td>0.565</td>\n",
       "    </tr>\n",
       "    <tr>\n",
       "      <th>2</th>\n",
       "      <td>Dayton</td>\n",
       "      <td>217.1290</td>\n",
       "      <td>17.9879</td>\n",
       "      <td>64.3660</td>\n",
       "      <td>0.757576</td>\n",
       "      <td>0.563</td>\n",
       "    </tr>\n",
       "    <tr>\n",
       "      <th>3</th>\n",
       "      <td>Robert Morris</td>\n",
       "      <td>207.3831</td>\n",
       "      <td>20.9935</td>\n",
       "      <td>66.7335</td>\n",
       "      <td>0.588235</td>\n",
       "      <td>0.565</td>\n",
       "    </tr>\n",
       "    <tr>\n",
       "      <th>4</th>\n",
       "      <td>Arizona</td>\n",
       "      <td>212.5351</td>\n",
       "      <td>20.8582</td>\n",
       "      <td>66.8428</td>\n",
       "      <td>0.911765</td>\n",
       "      <td>0.563</td>\n",
       "    </tr>\n",
       "  </tbody>\n",
       "</table>\n",
       "</div>"
      ],
      "text/plain": [
       "        teamname  offensive  defensive    tempo     coach  rpi_rating\n",
       "0        Hampton   188.0408    20.3670  69.1423  0.500000       0.563\n",
       "1    Mississippi   210.7153    20.9828  66.5662  0.636364       0.565\n",
       "2         Dayton   217.1290    17.9879  64.3660  0.757576       0.563\n",
       "3  Robert Morris   207.3831    20.9935  66.7335  0.588235       0.565\n",
       "4        Arizona   212.5351    20.8582  66.8428  0.911765       0.563"
      ]
     },
     "execution_count": 108,
     "metadata": {},
     "output_type": "execute_result"
    }
   ],
   "source": [
    "df_2015_radar.head()"
   ]
  },
  {
   "cell_type": "code",
   "execution_count": 109,
   "metadata": {
    "collapsed": true
   },
   "outputs": [],
   "source": [
    "from sklearn import preprocessing"
   ]
  },
  {
   "cell_type": "code",
   "execution_count": 116,
   "metadata": {
    "collapsed": false
   },
   "outputs": [
    {
     "name": "stderr",
     "output_type": "stream",
     "text": [
      "/Users/williamz/anaconda2/lib/python2.7/site-packages/sklearn/preprocessing/data.py:324: DeprecationWarning: Passing 1d arrays as data is deprecated in 0.17 and will raise ValueError in 0.19. Reshape your data either using X.reshape(-1, 1) if your data has a single feature or X.reshape(1, -1) if it contains a single sample.\n",
      "  warnings.warn(DEPRECATION_MSG_1D, DeprecationWarning)\n",
      "/Users/williamz/anaconda2/lib/python2.7/site-packages/sklearn/preprocessing/data.py:359: DeprecationWarning: Passing 1d arrays as data is deprecated in 0.17 and will raise ValueError in 0.19. Reshape your data either using X.reshape(-1, 1) if your data has a single feature or X.reshape(1, -1) if it contains a single sample.\n",
      "  warnings.warn(DEPRECATION_MSG_1D, DeprecationWarning)\n",
      "/Users/williamz/anaconda2/lib/python2.7/site-packages/sklearn/preprocessing/data.py:324: DeprecationWarning: Passing 1d arrays as data is deprecated in 0.17 and will raise ValueError in 0.19. Reshape your data either using X.reshape(-1, 1) if your data has a single feature or X.reshape(1, -1) if it contains a single sample.\n",
      "  warnings.warn(DEPRECATION_MSG_1D, DeprecationWarning)\n",
      "/Users/williamz/anaconda2/lib/python2.7/site-packages/sklearn/preprocessing/data.py:359: DeprecationWarning: Passing 1d arrays as data is deprecated in 0.17 and will raise ValueError in 0.19. Reshape your data either using X.reshape(-1, 1) if your data has a single feature or X.reshape(1, -1) if it contains a single sample.\n",
      "  warnings.warn(DEPRECATION_MSG_1D, DeprecationWarning)\n",
      "/Users/williamz/anaconda2/lib/python2.7/site-packages/sklearn/preprocessing/data.py:324: DeprecationWarning: Passing 1d arrays as data is deprecated in 0.17 and will raise ValueError in 0.19. Reshape your data either using X.reshape(-1, 1) if your data has a single feature or X.reshape(1, -1) if it contains a single sample.\n",
      "  warnings.warn(DEPRECATION_MSG_1D, DeprecationWarning)\n",
      "/Users/williamz/anaconda2/lib/python2.7/site-packages/sklearn/preprocessing/data.py:359: DeprecationWarning: Passing 1d arrays as data is deprecated in 0.17 and will raise ValueError in 0.19. Reshape your data either using X.reshape(-1, 1) if your data has a single feature or X.reshape(1, -1) if it contains a single sample.\n",
      "  warnings.warn(DEPRECATION_MSG_1D, DeprecationWarning)\n",
      "/Users/williamz/anaconda2/lib/python2.7/site-packages/sklearn/preprocessing/data.py:324: DeprecationWarning: Passing 1d arrays as data is deprecated in 0.17 and will raise ValueError in 0.19. Reshape your data either using X.reshape(-1, 1) if your data has a single feature or X.reshape(1, -1) if it contains a single sample.\n",
      "  warnings.warn(DEPRECATION_MSG_1D, DeprecationWarning)\n",
      "/Users/williamz/anaconda2/lib/python2.7/site-packages/sklearn/preprocessing/data.py:359: DeprecationWarning: Passing 1d arrays as data is deprecated in 0.17 and will raise ValueError in 0.19. Reshape your data either using X.reshape(-1, 1) if your data has a single feature or X.reshape(1, -1) if it contains a single sample.\n",
      "  warnings.warn(DEPRECATION_MSG_1D, DeprecationWarning)\n",
      "/Users/williamz/anaconda2/lib/python2.7/site-packages/sklearn/preprocessing/data.py:324: DeprecationWarning: Passing 1d arrays as data is deprecated in 0.17 and will raise ValueError in 0.19. Reshape your data either using X.reshape(-1, 1) if your data has a single feature or X.reshape(1, -1) if it contains a single sample.\n",
      "  warnings.warn(DEPRECATION_MSG_1D, DeprecationWarning)\n",
      "/Users/williamz/anaconda2/lib/python2.7/site-packages/sklearn/preprocessing/data.py:359: DeprecationWarning: Passing 1d arrays as data is deprecated in 0.17 and will raise ValueError in 0.19. Reshape your data either using X.reshape(-1, 1) if your data has a single feature or X.reshape(1, -1) if it contains a single sample.\n",
      "  warnings.warn(DEPRECATION_MSG_1D, DeprecationWarning)\n"
     ]
    }
   ],
   "source": [
    "min_max_scaler = preprocessing.MinMaxScaler(feature_range=(1,5))\n",
    "df_2015_radar['offensive'] = min_max_scaler.fit_transform(df_2015_radar.offensive) \n",
    "df_2015_radar['defensive'] = min_max_scaler.fit_transform(df_2015_radar.defensive) \n",
    "df_2015_radar['tempo'] = min_max_scaler.fit_transform(df_2015_radar.tempo) \n",
    "df_2015_radar['coach'] = min_max_scaler.fit_transform(df_2015_radar.coach) \n",
    "df_2015_radar['rpi_rating'] = min_max_scaler.fit_transform(df_2015_radar.rpi_rating) "
   ]
  },
  {
   "cell_type": "code",
   "execution_count": 124,
   "metadata": {
    "collapsed": false
   },
   "outputs": [
    {
     "data": {
      "text/html": [
       "<div>\n",
       "<table border=\"1\" class=\"dataframe\">\n",
       "  <thead>\n",
       "    <tr style=\"text-align: right;\">\n",
       "      <th></th>\n",
       "      <th>teamname</th>\n",
       "      <th>offensive</th>\n",
       "      <th>defensive</th>\n",
       "      <th>tempo</th>\n",
       "      <th>coach</th>\n",
       "      <th>rpi_rating</th>\n",
       "    </tr>\n",
       "  </thead>\n",
       "  <tbody>\n",
       "    <tr>\n",
       "      <th>0</th>\n",
       "      <td>Hampton</td>\n",
       "      <td>1.000000</td>\n",
       "      <td>2.607891</td>\n",
       "      <td>4.635812</td>\n",
       "      <td>1.000000</td>\n",
       "      <td>4.602484</td>\n",
       "    </tr>\n",
       "    <tr>\n",
       "      <th>1</th>\n",
       "      <td>Mississippi</td>\n",
       "      <td>3.068233</td>\n",
       "      <td>2.787589</td>\n",
       "      <td>3.837899</td>\n",
       "      <td>2.090909</td>\n",
       "      <td>4.652174</td>\n",
       "    </tr>\n",
       "    <tr>\n",
       "      <th>2</th>\n",
       "      <td>Dayton</td>\n",
       "      <td>3.653252</td>\n",
       "      <td>1.913638</td>\n",
       "      <td>3.156417</td>\n",
       "      <td>3.060606</td>\n",
       "      <td>4.602484</td>\n",
       "    </tr>\n",
       "    <tr>\n",
       "      <th>3</th>\n",
       "      <td>Robert Morris</td>\n",
       "      <td>2.764289</td>\n",
       "      <td>2.790712</td>\n",
       "      <td>3.889718</td>\n",
       "      <td>1.705882</td>\n",
       "      <td>4.652174</td>\n",
       "    </tr>\n",
       "    <tr>\n",
       "      <th>4</th>\n",
       "      <td>Arizona</td>\n",
       "      <td>3.234224</td>\n",
       "      <td>2.751229</td>\n",
       "      <td>3.923573</td>\n",
       "      <td>4.294118</td>\n",
       "      <td>4.602484</td>\n",
       "    </tr>\n",
       "  </tbody>\n",
       "</table>\n",
       "</div>"
      ],
      "text/plain": [
       "        teamname  offensive  defensive     tempo     coach  rpi_rating\n",
       "0        Hampton   1.000000   2.607891  4.635812  1.000000    4.602484\n",
       "1    Mississippi   3.068233   2.787589  3.837899  2.090909    4.652174\n",
       "2         Dayton   3.653252   1.913638  3.156417  3.060606    4.602484\n",
       "3  Robert Morris   2.764289   2.790712  3.889718  1.705882    4.652174\n",
       "4        Arizona   3.234224   2.751229  3.923573  4.294118    4.602484"
      ]
     },
     "execution_count": 124,
     "metadata": {},
     "output_type": "execute_result"
    }
   ],
   "source": [
    "df_2015_radar.head()"
   ]
  },
  {
   "cell_type": "code",
   "execution_count": 123,
   "metadata": {
    "collapsed": false
   },
   "outputs": [],
   "source": [
    "df_2015_radar.to_csv('df_2015_radar.csv',delimeter = ',',float_format='%.2f',index=False)"
   ]
  }
 ],
 "metadata": {
  "kernelspec": {
   "display_name": "Python 2",
   "language": "python",
   "name": "python2"
  },
  "language_info": {
   "codemirror_mode": {
    "name": "ipython",
    "version": 2
   },
   "file_extension": ".py",
   "mimetype": "text/x-python",
   "name": "python",
   "nbconvert_exporter": "python",
   "pygments_lexer": "ipython2",
   "version": "2.7.11"
  }
 },
 "nbformat": 4,
 "nbformat_minor": 0
}
